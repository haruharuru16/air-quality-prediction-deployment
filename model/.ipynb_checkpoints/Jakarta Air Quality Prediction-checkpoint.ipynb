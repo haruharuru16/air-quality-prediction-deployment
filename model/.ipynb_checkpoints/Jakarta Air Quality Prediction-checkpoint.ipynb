{
 "cells": [
  {
   "cell_type": "markdown",
   "metadata": {},
   "source": [
    "# Air Quality Prediction in Jakarta"
   ]
  },
  {
   "cell_type": "markdown",
   "metadata": {},
   "source": [
    "Nama Peserta:\n",
    "- Roganda Dimas\n",
    "- Fakhri Rizal Santosa\n",
    "- Ita Sulistiani <br>\n",
    "Universitas Host: Universitas Indonesia<br>\n",
    "Kelas: MICRODENTIAL-002-UI-02 Associate Data Scientist<br>\n",
    "Kelompok: 2"
   ]
  },
  {
   "cell_type": "markdown",
   "metadata": {},
   "source": [
    "### Indeks Standar Pencemaran Udara (ISPU) Tahun 2020"
   ]
  },
  {
   "cell_type": "markdown",
   "metadata": {},
   "source": [
    "Dataset ini berisi mengenai Indeks Standar Pencemar Udara (ISPU) yang diukur dari 5 stasiun pemantau kualitas udara (SPKU) yang ada di Provinsi DKI Jakarta Tahun 2020\n",
    "\n",
    "Penjelasan variabel dari data diatas sebagai berikut :\n",
    "\n",
    "1. tanggal : Tanggal pengukuran kualitas udara\n",
    "2. stasiun : Lokasi pengukuran di stasiun\n",
    "3. pm10 : Partikulat salah satu parameter yang diukur\n",
    "4. so2 : Sulfida (dalam bentuk SO2) salah satu parameter yang diukur\n",
    "5. co : Carbon Monoksida salah satu parameter yand diukur\n",
    "6. o3 : Ozon salah satu parameter yang diukur\n",
    "7. no2 : NItrogen dioksida salah satu parameter yang diukur\n",
    "8. max : Nilai ukur paling tinggi dari seluruh parameter yang diukur dalam waktu yang sama\n",
    "9. critical : Parameter yang hasil pengukurannya paling tinggi\n",
    "10. categori : Kategori hasil perhitungan indeks standar pencemaran udara"
   ]
  },
  {
   "cell_type": "markdown",
   "metadata": {},
   "source": [
    "## **1. Data Loading**"
   ]
  },
  {
   "cell_type": "code",
   "execution_count": 1,
   "metadata": {},
   "outputs": [],
   "source": [
    "#Import Library\n",
    "import pandas as pd\n",
    "import matplotlib.pyplot as plt\n",
    "import seaborn as sns\n",
    "import numpy as np\n",
    "import sklearn\n",
    "from sklearn import preprocessing\n",
    "from sklearn.preprocessing import LabelEncoder"
   ]
  },
  {
   "cell_type": "code",
   "execution_count": 2,
   "metadata": {},
   "outputs": [],
   "source": [
    "#Dataset API \n",
    "jan_url = 'https://data.jakarta.go.id/dataset/dd749a07-d36d-4f13-9e86-7d0a84bb90f3/resource/0f168955-5771-43a2-9fed-9c74ac3c268e/download/Indeks-Standar-Pencemar-Udara-di-SPKU-Bulan-Januari-Tahun-2020.csv'\n",
    "feb_url = 'https://data.jakarta.go.id/dataset/dd749a07-d36d-4f13-9e86-7d0a84bb90f3/resource/67f87e67-4edd-4e5b-94f9-36f40f9295e2/download/Indeks-Standar-Pencemar-Udara-di-SPKU-Bulan-Februari-Tahun-2020.csv'\n",
    "mar_url = 'https://data.jakarta.go.id/dataset/dd749a07-d36d-4f13-9e86-7d0a84bb90f3/resource/22e21493-0c34-4255-95a4-b13f3c93bbab/download/Indeks-Standar-Pencemar-Udara-di-SPKU-Bulan-Maret-Tahun-2020.csv'\n",
    "apr_url = 'https://data.jakarta.go.id/dataset/dd749a07-d36d-4f13-9e86-7d0a84bb90f3/resource/3fa0ddf9-1aee-4fc6-b751-eb52f71af1c6/download/Indeks-Standar-Pencemar-Udara-di-SPKU-Bulan-April-Tahun-2020.csv'\n",
    "mei_url = 'https://data.jakarta.go.id/dataset/dd749a07-d36d-4f13-9e86-7d0a84bb90f3/resource/d40162f0-1a2b-40a5-8d53-c52a38b33550/download/Indeks-Standar-Pencemar-Udara-di-SPKU-Bulan-Mei-Tahun-2020.csv'\n",
    "jun_url = 'https://data.jakarta.go.id/dataset/dd749a07-d36d-4f13-9e86-7d0a84bb90f3/resource/6541c39e-6c56-490a-ae16-2a78ae67fa73/download/Indeks-Standar-Pencemar-Udara-di-SPKU-Bulan-Juni-Tahun-2020.csv'\n",
    "jul_url = 'https://data.jakarta.go.id/dataset/dd749a07-d36d-4f13-9e86-7d0a84bb90f3/resource/dd5b5b60bfba593c41e8615269d9d221/download/Indeks-Standar-Pencemar-Udara-di-SPKU-Bulan-Juli-Tahun-2020.csv'\n",
    "aug_url = 'https://data.jakarta.go.id/dataset/dd749a07-d36d-4f13-9e86-7d0a84bb90f3/resource/c1fb35547ac7117719b7f3ac71d6f385/download/Indeks-Standar-Pencemar-Udara-di-SPKU-Bulan-Agustus-Tahun-2020.csv'\n",
    "sep_url = 'https://data.jakarta.go.id/dataset/dd749a07-d36d-4f13-9e86-7d0a84bb90f3/resource/3ad9f00b71e2f67f8fecf53cbf5a1fc7/download/Indeks-Standar-Pencemar-Udara-di-SPKU-Bulan-September-Tahun-2020.csv'\n",
    "oct_url = 'https://data.jakarta.go.id/dataset/dd749a07-d36d-4f13-9e86-7d0a84bb90f3/resource/b037e029b2ca89430ec64e62817e79bf/download/Indeks-Standar-Pencemar-Udara-di-SPKU-Bulan-Oktober-Tahun-2020.csv'\n",
    "nov_url = 'https://data.jakarta.go.id/dataset/dd749a07-d36d-4f13-9e86-7d0a84bb90f3/resource/46a23fa64e3adb97f38191164e60694f/download/Indeks-Standar-Pencemar-Udara-di-SPKU-Bulan-November-Tahun-2020.csv'\n",
    "dec_url = 'https://data.jakarta.go.id/dataset/dd749a07-d36d-4f13-9e86-7d0a84bb90f3/resource/d3e2e8c2a651743aadf09c734e937ce7/download/Indeks-Standar-Pencemar-Udara-di-SPKU-Bulan-Desember-Tahun-2020.csv'"
   ]
  },
  {
   "cell_type": "code",
   "execution_count": 3,
   "metadata": {},
   "outputs": [],
   "source": [
    "#Read CSV File\n",
    "data_jan = pd.read_csv(jan_url)\n",
    "data_feb = pd.read_csv(feb_url)\n",
    "data_mar = pd.read_csv(mar_url)\n",
    "data_apr = pd.read_csv(apr_url)\n",
    "data_mei = pd.read_csv(mei_url)\n",
    "data_jun = pd.read_csv(jun_url)\n",
    "data_jul = pd.read_csv(jul_url)\n",
    "data_aug = pd.read_csv(aug_url)\n",
    "data_sep = pd.read_csv(sep_url)\n",
    "data_oct = pd.read_csv(oct_url)\n",
    "data_nov = pd.read_csv(nov_url)\n",
    "data_dec = pd.read_csv(dec_url)"
   ]
  },
  {
   "cell_type": "code",
   "execution_count": 4,
   "metadata": {},
   "outputs": [
    {
     "name": "stdout",
     "output_type": "stream",
     "text": [
      "(155, 10)\n",
      "(145, 10)\n",
      "(155, 10)\n",
      "(150, 10)\n",
      "(155, 10)\n",
      "(150, 10)\n",
      "(155, 10)\n",
      "(155, 10)\n",
      "(150, 10)\n",
      "(155, 10)\n",
      "(150, 10)\n",
      "(155, 10)\n"
     ]
    }
   ],
   "source": [
    "#Check Dataset Shape\n",
    "print(data_jan.shape)\n",
    "print(data_feb.shape)\n",
    "print(data_mar.shape)\n",
    "print(data_apr.shape)\n",
    "print(data_mei.shape)\n",
    "print(data_jun.shape)\n",
    "print(data_jul.shape)\n",
    "print(data_aug.shape)\n",
    "print(data_sep.shape)\n",
    "print(data_oct.shape)\n",
    "print(data_nov.shape)\n",
    "print(data_dec.shape)"
   ]
  },
  {
   "cell_type": "code",
   "execution_count": 5,
   "metadata": {
    "scrolled": true
   },
   "outputs": [
    {
     "data": {
      "text/html": [
       "<div>\n",
       "<style scoped>\n",
       "    .dataframe tbody tr th:only-of-type {\n",
       "        vertical-align: middle;\n",
       "    }\n",
       "\n",
       "    .dataframe tbody tr th {\n",
       "        vertical-align: top;\n",
       "    }\n",
       "\n",
       "    .dataframe thead th {\n",
       "        text-align: right;\n",
       "    }\n",
       "</style>\n",
       "<table border=\"1\" class=\"dataframe\">\n",
       "  <thead>\n",
       "    <tr style=\"text-align: right;\">\n",
       "      <th></th>\n",
       "      <th>tanggal</th>\n",
       "      <th>stasiun</th>\n",
       "      <th>pm10</th>\n",
       "      <th>so2</th>\n",
       "      <th>co</th>\n",
       "      <th>o3</th>\n",
       "      <th>no2</th>\n",
       "      <th>max</th>\n",
       "      <th>critical</th>\n",
       "      <th>categori</th>\n",
       "    </tr>\n",
       "  </thead>\n",
       "  <tbody>\n",
       "    <tr>\n",
       "      <th>0</th>\n",
       "      <td>2020-01-01</td>\n",
       "      <td>DKI1 (Bunderan HI)</td>\n",
       "      <td>30</td>\n",
       "      <td>20</td>\n",
       "      <td>10</td>\n",
       "      <td>32</td>\n",
       "      <td>9</td>\n",
       "      <td>32.0</td>\n",
       "      <td>O3</td>\n",
       "      <td>BAIK</td>\n",
       "    </tr>\n",
       "    <tr>\n",
       "      <th>1</th>\n",
       "      <td>2020-01-02</td>\n",
       "      <td>DKI1 (Bunderan HI)</td>\n",
       "      <td>27</td>\n",
       "      <td>22</td>\n",
       "      <td>12</td>\n",
       "      <td>29</td>\n",
       "      <td>8</td>\n",
       "      <td>29.0</td>\n",
       "      <td>O3</td>\n",
       "      <td>BAIK</td>\n",
       "    </tr>\n",
       "    <tr>\n",
       "      <th>2</th>\n",
       "      <td>2020-01-03</td>\n",
       "      <td>DKI1 (Bunderan HI)</td>\n",
       "      <td>39</td>\n",
       "      <td>22</td>\n",
       "      <td>14</td>\n",
       "      <td>32</td>\n",
       "      <td>10</td>\n",
       "      <td>39.0</td>\n",
       "      <td>PM10</td>\n",
       "      <td>BAIK</td>\n",
       "    </tr>\n",
       "    <tr>\n",
       "      <th>3</th>\n",
       "      <td>2020-01-04</td>\n",
       "      <td>DKI1 (Bunderan HI)</td>\n",
       "      <td>34</td>\n",
       "      <td>22</td>\n",
       "      <td>14</td>\n",
       "      <td>38</td>\n",
       "      <td>10</td>\n",
       "      <td>38.0</td>\n",
       "      <td>O3</td>\n",
       "      <td>BAIK</td>\n",
       "    </tr>\n",
       "    <tr>\n",
       "      <th>4</th>\n",
       "      <td>2020-01-05</td>\n",
       "      <td>DKI1 (Bunderan HI)</td>\n",
       "      <td>35</td>\n",
       "      <td>22</td>\n",
       "      <td>12</td>\n",
       "      <td>31</td>\n",
       "      <td>9</td>\n",
       "      <td>35.0</td>\n",
       "      <td>PM10</td>\n",
       "      <td>BAIK</td>\n",
       "    </tr>\n",
       "  </tbody>\n",
       "</table>\n",
       "</div>"
      ],
      "text/plain": [
       "      tanggal             stasiun pm10 so2  co  o3 no2   max critical categori\n",
       "0  2020-01-01  DKI1 (Bunderan HI)   30  20  10  32   9  32.0       O3     BAIK\n",
       "1  2020-01-02  DKI1 (Bunderan HI)   27  22  12  29   8  29.0       O3     BAIK\n",
       "2  2020-01-03  DKI1 (Bunderan HI)   39  22  14  32  10  39.0     PM10     BAIK\n",
       "3  2020-01-04  DKI1 (Bunderan HI)   34  22  14  38  10  38.0       O3     BAIK\n",
       "4  2020-01-05  DKI1 (Bunderan HI)   35  22  12  31   9  35.0     PM10     BAIK"
      ]
     },
     "execution_count": 5,
     "metadata": {},
     "output_type": "execute_result"
    }
   ],
   "source": [
    "#Combine Dataset\n",
    "data_ispu = pd.concat([data_jan, data_feb, data_mar, data_apr, data_mei, data_jun, data_jul, data_aug, data_sep, data_oct, data_nov, data_dec], axis=0)\n",
    "data_ispu.head()"
   ]
  },
  {
   "cell_type": "code",
   "execution_count": 6,
   "metadata": {},
   "outputs": [],
   "source": [
    "#Reset Index (After concat index is mixed)\n",
    "data_ispu = data_ispu.reset_index()\n",
    "data_ispu.drop(columns = 'index', inplace = True)"
   ]
  },
  {
   "cell_type": "markdown",
   "metadata": {},
   "source": [
    "# **2. Exploratory Data Analysis and Data Preprocessing**"
   ]
  },
  {
   "cell_type": "code",
   "execution_count": 7,
   "metadata": {},
   "outputs": [
    {
     "data": {
      "text/html": [
       "<div>\n",
       "<style scoped>\n",
       "    .dataframe tbody tr th:only-of-type {\n",
       "        vertical-align: middle;\n",
       "    }\n",
       "\n",
       "    .dataframe tbody tr th {\n",
       "        vertical-align: top;\n",
       "    }\n",
       "\n",
       "    .dataframe thead th {\n",
       "        text-align: right;\n",
       "    }\n",
       "</style>\n",
       "<table border=\"1\" class=\"dataframe\">\n",
       "  <thead>\n",
       "    <tr style=\"text-align: right;\">\n",
       "      <th></th>\n",
       "      <th>tanggal</th>\n",
       "      <th>stasiun</th>\n",
       "      <th>pm10</th>\n",
       "      <th>so2</th>\n",
       "      <th>co</th>\n",
       "      <th>o3</th>\n",
       "      <th>no2</th>\n",
       "      <th>max</th>\n",
       "      <th>critical</th>\n",
       "      <th>categori</th>\n",
       "    </tr>\n",
       "  </thead>\n",
       "  <tbody>\n",
       "    <tr>\n",
       "      <th>0</th>\n",
       "      <td>2020-01-01</td>\n",
       "      <td>DKI1 (Bunderan HI)</td>\n",
       "      <td>30</td>\n",
       "      <td>20</td>\n",
       "      <td>10</td>\n",
       "      <td>32</td>\n",
       "      <td>9</td>\n",
       "      <td>32.0</td>\n",
       "      <td>O3</td>\n",
       "      <td>BAIK</td>\n",
       "    </tr>\n",
       "    <tr>\n",
       "      <th>1</th>\n",
       "      <td>2020-01-02</td>\n",
       "      <td>DKI1 (Bunderan HI)</td>\n",
       "      <td>27</td>\n",
       "      <td>22</td>\n",
       "      <td>12</td>\n",
       "      <td>29</td>\n",
       "      <td>8</td>\n",
       "      <td>29.0</td>\n",
       "      <td>O3</td>\n",
       "      <td>BAIK</td>\n",
       "    </tr>\n",
       "    <tr>\n",
       "      <th>2</th>\n",
       "      <td>2020-01-03</td>\n",
       "      <td>DKI1 (Bunderan HI)</td>\n",
       "      <td>39</td>\n",
       "      <td>22</td>\n",
       "      <td>14</td>\n",
       "      <td>32</td>\n",
       "      <td>10</td>\n",
       "      <td>39.0</td>\n",
       "      <td>PM10</td>\n",
       "      <td>BAIK</td>\n",
       "    </tr>\n",
       "    <tr>\n",
       "      <th>3</th>\n",
       "      <td>2020-01-04</td>\n",
       "      <td>DKI1 (Bunderan HI)</td>\n",
       "      <td>34</td>\n",
       "      <td>22</td>\n",
       "      <td>14</td>\n",
       "      <td>38</td>\n",
       "      <td>10</td>\n",
       "      <td>38.0</td>\n",
       "      <td>O3</td>\n",
       "      <td>BAIK</td>\n",
       "    </tr>\n",
       "    <tr>\n",
       "      <th>4</th>\n",
       "      <td>2020-01-05</td>\n",
       "      <td>DKI1 (Bunderan HI)</td>\n",
       "      <td>35</td>\n",
       "      <td>22</td>\n",
       "      <td>12</td>\n",
       "      <td>31</td>\n",
       "      <td>9</td>\n",
       "      <td>35.0</td>\n",
       "      <td>PM10</td>\n",
       "      <td>BAIK</td>\n",
       "    </tr>\n",
       "  </tbody>\n",
       "</table>\n",
       "</div>"
      ],
      "text/plain": [
       "      tanggal             stasiun pm10 so2  co  o3 no2   max critical categori\n",
       "0  2020-01-01  DKI1 (Bunderan HI)   30  20  10  32   9  32.0       O3     BAIK\n",
       "1  2020-01-02  DKI1 (Bunderan HI)   27  22  12  29   8  29.0       O3     BAIK\n",
       "2  2020-01-03  DKI1 (Bunderan HI)   39  22  14  32  10  39.0     PM10     BAIK\n",
       "3  2020-01-04  DKI1 (Bunderan HI)   34  22  14  38  10  38.0       O3     BAIK\n",
       "4  2020-01-05  DKI1 (Bunderan HI)   35  22  12  31   9  35.0     PM10     BAIK"
      ]
     },
     "execution_count": 7,
     "metadata": {},
     "output_type": "execute_result"
    }
   ],
   "source": [
    "#Melihat Data \n",
    "data_ispu.head()"
   ]
  },
  {
   "cell_type": "code",
   "execution_count": 8,
   "metadata": {},
   "outputs": [
    {
     "data": {
      "text/html": [
       "<div>\n",
       "<style scoped>\n",
       "    .dataframe tbody tr th:only-of-type {\n",
       "        vertical-align: middle;\n",
       "    }\n",
       "\n",
       "    .dataframe tbody tr th {\n",
       "        vertical-align: top;\n",
       "    }\n",
       "\n",
       "    .dataframe thead th {\n",
       "        text-align: right;\n",
       "    }\n",
       "</style>\n",
       "<table border=\"1\" class=\"dataframe\">\n",
       "  <thead>\n",
       "    <tr style=\"text-align: right;\">\n",
       "      <th></th>\n",
       "      <th>tanggal</th>\n",
       "      <th>stasiun</th>\n",
       "      <th>pm10</th>\n",
       "      <th>so2</th>\n",
       "      <th>co</th>\n",
       "      <th>o3</th>\n",
       "      <th>no2</th>\n",
       "      <th>max</th>\n",
       "      <th>critical</th>\n",
       "      <th>categori</th>\n",
       "    </tr>\n",
       "  </thead>\n",
       "  <tbody>\n",
       "    <tr>\n",
       "      <th>1825</th>\n",
       "      <td>2020-12-27</td>\n",
       "      <td>DKI5 (Kebon Jeruk) Jakarta Barat</td>\n",
       "      <td>18</td>\n",
       "      <td>32</td>\n",
       "      <td>4</td>\n",
       "      <td>41</td>\n",
       "      <td>---</td>\n",
       "      <td>41.0</td>\n",
       "      <td>CO</td>\n",
       "      <td>BAIK</td>\n",
       "    </tr>\n",
       "    <tr>\n",
       "      <th>1826</th>\n",
       "      <td>2020-12-28</td>\n",
       "      <td>DKI5 (Kebon Jeruk) Jakarta Barat</td>\n",
       "      <td>22</td>\n",
       "      <td>33</td>\n",
       "      <td>5</td>\n",
       "      <td>35</td>\n",
       "      <td>3</td>\n",
       "      <td>35.0</td>\n",
       "      <td>CO</td>\n",
       "      <td>BAIK</td>\n",
       "    </tr>\n",
       "    <tr>\n",
       "      <th>1827</th>\n",
       "      <td>2020-12-29</td>\n",
       "      <td>DKI5 (Kebon Jeruk) Jakarta Barat</td>\n",
       "      <td>15</td>\n",
       "      <td>28</td>\n",
       "      <td>4</td>\n",
       "      <td>27</td>\n",
       "      <td>---</td>\n",
       "      <td>28.0</td>\n",
       "      <td>PM25</td>\n",
       "      <td>BAIK</td>\n",
       "    </tr>\n",
       "    <tr>\n",
       "      <th>1828</th>\n",
       "      <td>2020-12-30</td>\n",
       "      <td>DKI5 (Kebon Jeruk) Jakarta Barat</td>\n",
       "      <td>16</td>\n",
       "      <td>7</td>\n",
       "      <td>3</td>\n",
       "      <td>21</td>\n",
       "      <td>2</td>\n",
       "      <td>21.0</td>\n",
       "      <td>CO</td>\n",
       "      <td>BAIK</td>\n",
       "    </tr>\n",
       "    <tr>\n",
       "      <th>1829</th>\n",
       "      <td>2020-12-31</td>\n",
       "      <td>DKI5 (Kebon Jeruk) Jakarta Barat</td>\n",
       "      <td>18</td>\n",
       "      <td>13</td>\n",
       "      <td>6</td>\n",
       "      <td>24</td>\n",
       "      <td>3</td>\n",
       "      <td>24.0</td>\n",
       "      <td>CO</td>\n",
       "      <td>BAIK</td>\n",
       "    </tr>\n",
       "  </tbody>\n",
       "</table>\n",
       "</div>"
      ],
      "text/plain": [
       "         tanggal                           stasiun pm10 so2 co  o3  no2   max  \\\n",
       "1825  2020-12-27  DKI5 (Kebon Jeruk) Jakarta Barat   18  32  4  41  ---  41.0   \n",
       "1826  2020-12-28  DKI5 (Kebon Jeruk) Jakarta Barat   22  33  5  35    3  35.0   \n",
       "1827  2020-12-29  DKI5 (Kebon Jeruk) Jakarta Barat   15  28  4  27  ---  28.0   \n",
       "1828  2020-12-30  DKI5 (Kebon Jeruk) Jakarta Barat   16   7  3  21    2  21.0   \n",
       "1829  2020-12-31  DKI5 (Kebon Jeruk) Jakarta Barat   18  13  6  24    3  24.0   \n",
       "\n",
       "     critical categori  \n",
       "1825       CO     BAIK  \n",
       "1826       CO     BAIK  \n",
       "1827     PM25     BAIK  \n",
       "1828       CO     BAIK  \n",
       "1829       CO     BAIK  "
      ]
     },
     "execution_count": 8,
     "metadata": {},
     "output_type": "execute_result"
    }
   ],
   "source": [
    "data_ispu.tail()"
   ]
  },
  {
   "cell_type": "code",
   "execution_count": 9,
   "metadata": {},
   "outputs": [
    {
     "name": "stdout",
     "output_type": "stream",
     "text": [
      "Jumlah Rows  : 1830\n",
      "jumlah kolom : 10\n"
     ]
    }
   ],
   "source": [
    "#Lihat jumlah baris dan kolom\n",
    "print('Jumlah Rows  :', data_ispu.shape[0])\n",
    "print('jumlah kolom :', data_ispu.shape[1])"
   ]
  },
  {
   "cell_type": "code",
   "execution_count": 10,
   "metadata": {},
   "outputs": [
    {
     "data": {
      "text/plain": [
       "Index(['tanggal', 'stasiun', 'pm10', 'so2', 'co', 'o3', 'no2', 'max',\n",
       "       'critical', 'categori'],\n",
       "      dtype='object')"
      ]
     },
     "execution_count": 10,
     "metadata": {},
     "output_type": "execute_result"
    }
   ],
   "source": [
    "#Kolom pada dataframe\n",
    "data_ispu.columns"
   ]
  },
  {
   "cell_type": "code",
   "execution_count": 11,
   "metadata": {},
   "outputs": [
    {
     "name": "stdout",
     "output_type": "stream",
     "text": [
      "<class 'pandas.core.frame.DataFrame'>\n",
      "RangeIndex: 1830 entries, 0 to 1829\n",
      "Data columns (total 10 columns):\n",
      " #   Column    Non-Null Count  Dtype  \n",
      "---  ------    --------------  -----  \n",
      " 0   tanggal   1830 non-null   object \n",
      " 1   stasiun   1830 non-null   object \n",
      " 2   pm10      1830 non-null   object \n",
      " 3   so2       1830 non-null   object \n",
      " 4   co        1830 non-null   object \n",
      " 5   o3        1830 non-null   object \n",
      " 6   no2       1830 non-null   object \n",
      " 7   max       1826 non-null   float64\n",
      " 8   critical  1814 non-null   object \n",
      " 9   categori  1830 non-null   object \n",
      "dtypes: float64(1), object(9)\n",
      "memory usage: 143.1+ KB\n"
     ]
    }
   ],
   "source": [
    "#Melihat informasi dataset\n",
    "data_ispu.info()"
   ]
  },
  {
   "cell_type": "code",
   "execution_count": 12,
   "metadata": {},
   "outputs": [
    {
     "data": {
      "text/html": [
       "<div>\n",
       "<style scoped>\n",
       "    .dataframe tbody tr th:only-of-type {\n",
       "        vertical-align: middle;\n",
       "    }\n",
       "\n",
       "    .dataframe tbody tr th {\n",
       "        vertical-align: top;\n",
       "    }\n",
       "\n",
       "    .dataframe thead th {\n",
       "        text-align: right;\n",
       "    }\n",
       "</style>\n",
       "<table border=\"1\" class=\"dataframe\">\n",
       "  <thead>\n",
       "    <tr style=\"text-align: right;\">\n",
       "      <th></th>\n",
       "      <th>count</th>\n",
       "      <th>mean</th>\n",
       "      <th>std</th>\n",
       "      <th>min</th>\n",
       "      <th>25%</th>\n",
       "      <th>50%</th>\n",
       "      <th>75%</th>\n",
       "      <th>max</th>\n",
       "    </tr>\n",
       "  </thead>\n",
       "  <tbody>\n",
       "    <tr>\n",
       "      <th>max</th>\n",
       "      <td>1826.0</td>\n",
       "      <td>56.793538</td>\n",
       "      <td>31.162334</td>\n",
       "      <td>0.0</td>\n",
       "      <td>40.0</td>\n",
       "      <td>60.0</td>\n",
       "      <td>76.0</td>\n",
       "      <td>191.0</td>\n",
       "    </tr>\n",
       "  </tbody>\n",
       "</table>\n",
       "</div>"
      ],
      "text/plain": [
       "      count       mean        std  min   25%   50%   75%    max\n",
       "max  1826.0  56.793538  31.162334  0.0  40.0  60.0  76.0  191.0"
      ]
     },
     "execution_count": 12,
     "metadata": {},
     "output_type": "execute_result"
    }
   ],
   "source": [
    "data_ispu.describe().T"
   ]
  },
  {
   "cell_type": "raw",
   "metadata": {},
   "source": [
    "*   Based from our dataset info, other than 'max' has object data type. As for predicting air quality, we need integer / float data type. Therefore we need to convert other features except 'stasiun', 'critical' and 'categori'. As for 'tanggal' feature, we will convert it into datetime.\n",
    "*   'max' feature has 0 as its minimum value, 191.0 as maximum value and approximately around 58.1 as its mean value"
   ]
  },
  {
   "cell_type": "markdown",
   "metadata": {},
   "source": [
    "### **Handling Missing Value**"
   ]
  },
  {
   "cell_type": "code",
   "execution_count": 13,
   "metadata": {},
   "outputs": [
    {
     "data": {
      "text/plain": [
       "tanggal      0\n",
       "stasiun      0\n",
       "pm10         0\n",
       "so2          0\n",
       "co           0\n",
       "o3           0\n",
       "no2          0\n",
       "max          4\n",
       "critical    16\n",
       "categori     0\n",
       "dtype: int64"
      ]
     },
     "execution_count": 13,
     "metadata": {},
     "output_type": "execute_result"
    }
   ],
   "source": [
    "#Cek Missing Value\n",
    "data_ispu.isna().sum()"
   ]
  },
  {
   "cell_type": "code",
   "execution_count": 14,
   "metadata": {},
   "outputs": [
    {
     "data": {
      "text/plain": [
       "array(['30', '27', '39', '34', '35', '46', '37', '41', '52', '24', '33',\n",
       "       '29', '51', '61', '47', '40', '44', '25', '63', '49', '38', '31',\n",
       "       '23', '45', '54', '64', '43', '32', '86', '73', '53', '62', '55',\n",
       "       '58', '48', '---', '36', '67', '26', '42', '76', '50', '70', '56',\n",
       "       '82', '71', '59', '60', '72', '22', '65', '57', '28', '20', '19',\n",
       "       '75', '74', '69', '81', '21', '18', '5', '7', '6', '10', '4', '3',\n",
       "       '11', '8', '9', '17', '13', '12', '14', '16', '15', '66', '77',\n",
       "       '109', '78', '111', '80', '68', '91', '79', '87', '95', '88', '96',\n",
       "       '93', '84', '89', '83'], dtype=object)"
      ]
     },
     "execution_count": 14,
     "metadata": {},
     "output_type": "execute_result"
    }
   ],
   "source": [
    "#Check Unwanted Data\n",
    "data_ispu['pm10'].unique()"
   ]
  },
  {
   "cell_type": "raw",
   "metadata": {},
   "source": [
    "Actually, when we check our dataset deeper, there are some rows that has '---' value. In this case, this value can be interpreted as NaN or Null. Therefore, we should drop these data which contains '---' value.\n",
    "\n",
    "The same thing happen to other features, so we need to drop them separately."
   ]
  },
  {
   "cell_type": "code",
   "execution_count": 15,
   "metadata": {},
   "outputs": [
    {
     "data": {
      "text/plain": [
       "(1830, 10)"
      ]
     },
     "execution_count": 15,
     "metadata": {},
     "output_type": "execute_result"
    }
   ],
   "source": [
    "#Copy data\n",
    "df = data_ispu.copy()\n",
    "df.shape"
   ]
  },
  {
   "cell_type": "code",
   "execution_count": 16,
   "metadata": {},
   "outputs": [
    {
     "data": {
      "text/plain": [
       "(1673, 10)"
      ]
     },
     "execution_count": 16,
     "metadata": {},
     "output_type": "execute_result"
    }
   ],
   "source": [
    "#Drop row with unwanted data\n",
    "#Drop pm10\n",
    "to_drop_1 = df[df['pm10'] == '---']\n",
    "df.drop(to_drop_1.index, inplace = True)\n",
    "\n",
    "#Drop so2\n",
    "to_drop_2 = df[df['so2'] == '---']\n",
    "df.drop(to_drop_2.index, inplace = True)\n",
    "\n",
    "#Drop co\n",
    "to_drop_3 = df[df['co'] == '---']\n",
    "df.drop(to_drop_3.index, inplace = True)\n",
    "\n",
    "#Drop o3\n",
    "to_drop_4 = df[df['o3'] == '---']\n",
    "df.drop(to_drop_4.index, inplace = True)\n",
    "\n",
    "#Drop no2\n",
    "to_drop_5 = df[df['no2'] == '---']\n",
    "df.drop(to_drop_5.index, inplace = True)\n",
    "\n",
    "df.shape"
   ]
  },
  {
   "cell_type": "markdown",
   "metadata": {},
   "source": [
    "### Data Type Casting"
   ]
  },
  {
   "cell_type": "code",
   "execution_count": 17,
   "metadata": {},
   "outputs": [
    {
     "name": "stdout",
     "output_type": "stream",
     "text": [
      "<class 'pandas.core.frame.DataFrame'>\n",
      "Int64Index: 1673 entries, 0 to 1829\n",
      "Data columns (total 10 columns):\n",
      " #   Column    Non-Null Count  Dtype         \n",
      "---  ------    --------------  -----         \n",
      " 0   tanggal   1673 non-null   datetime64[ns]\n",
      " 1   stasiun   1673 non-null   object        \n",
      " 2   pm10      1673 non-null   int64         \n",
      " 3   so2       1673 non-null   int64         \n",
      " 4   co        1673 non-null   int64         \n",
      " 5   o3        1673 non-null   int64         \n",
      " 6   no2       1673 non-null   int64         \n",
      " 7   max       1673 non-null   float64       \n",
      " 8   critical  1673 non-null   object        \n",
      " 9   categori  1673 non-null   object        \n",
      "dtypes: datetime64[ns](1), float64(1), int64(5), object(3)\n",
      "memory usage: 143.8+ KB\n"
     ]
    }
   ],
   "source": [
    "# casting 'tanggal' as datetime\n",
    "df['tanggal'] = pd.to_datetime(df['tanggal'])\n",
    "\n",
    "# casting 'pm10', 'so2', 'co', 'o3', 'no2' as int64\n",
    "df['pm10'] = df['pm10'].astype('int64')\n",
    "df['so2'] = df['so2'].astype('int64')\n",
    "df['co'] = df['co'].astype('int64')\n",
    "df['o3'] = df['o3'].astype('int64')\n",
    "df['no2'] = df['no2'].astype('int64')\n",
    "\n",
    "df.info()"
   ]
  },
  {
   "cell_type": "code",
   "execution_count": 18,
   "metadata": {},
   "outputs": [
    {
     "data": {
      "text/html": [
       "<div>\n",
       "<style scoped>\n",
       "    .dataframe tbody tr th:only-of-type {\n",
       "        vertical-align: middle;\n",
       "    }\n",
       "\n",
       "    .dataframe tbody tr th {\n",
       "        vertical-align: top;\n",
       "    }\n",
       "\n",
       "    .dataframe thead th {\n",
       "        text-align: right;\n",
       "    }\n",
       "</style>\n",
       "<table border=\"1\" class=\"dataframe\">\n",
       "  <thead>\n",
       "    <tr style=\"text-align: right;\">\n",
       "      <th></th>\n",
       "      <th>count</th>\n",
       "      <th>mean</th>\n",
       "      <th>std</th>\n",
       "      <th>min</th>\n",
       "      <th>25%</th>\n",
       "      <th>50%</th>\n",
       "      <th>75%</th>\n",
       "      <th>max</th>\n",
       "    </tr>\n",
       "  </thead>\n",
       "  <tbody>\n",
       "    <tr>\n",
       "      <th>pm10</th>\n",
       "      <td>1673.0</td>\n",
       "      <td>49.096832</td>\n",
       "      <td>17.623018</td>\n",
       "      <td>3.0</td>\n",
       "      <td>38.0</td>\n",
       "      <td>53.0</td>\n",
       "      <td>61.0</td>\n",
       "      <td>111.0</td>\n",
       "    </tr>\n",
       "    <tr>\n",
       "      <th>so2</th>\n",
       "      <td>1673.0</td>\n",
       "      <td>23.160789</td>\n",
       "      <td>16.214098</td>\n",
       "      <td>1.0</td>\n",
       "      <td>15.0</td>\n",
       "      <td>20.0</td>\n",
       "      <td>26.0</td>\n",
       "      <td>112.0</td>\n",
       "    </tr>\n",
       "    <tr>\n",
       "      <th>co</th>\n",
       "      <td>1673.0</td>\n",
       "      <td>21.457262</td>\n",
       "      <td>22.830523</td>\n",
       "      <td>3.0</td>\n",
       "      <td>9.0</td>\n",
       "      <td>14.0</td>\n",
       "      <td>22.0</td>\n",
       "      <td>197.0</td>\n",
       "    </tr>\n",
       "    <tr>\n",
       "      <th>o3</th>\n",
       "      <td>1673.0</td>\n",
       "      <td>53.389719</td>\n",
       "      <td>30.036779</td>\n",
       "      <td>2.0</td>\n",
       "      <td>31.0</td>\n",
       "      <td>54.0</td>\n",
       "      <td>73.0</td>\n",
       "      <td>191.0</td>\n",
       "    </tr>\n",
       "    <tr>\n",
       "      <th>no2</th>\n",
       "      <td>1673.0</td>\n",
       "      <td>18.702331</td>\n",
       "      <td>25.867806</td>\n",
       "      <td>1.0</td>\n",
       "      <td>6.0</td>\n",
       "      <td>9.0</td>\n",
       "      <td>13.0</td>\n",
       "      <td>197.0</td>\n",
       "    </tr>\n",
       "    <tr>\n",
       "      <th>max</th>\n",
       "      <td>1673.0</td>\n",
       "      <td>57.942618</td>\n",
       "      <td>30.717248</td>\n",
       "      <td>1.0</td>\n",
       "      <td>42.0</td>\n",
       "      <td>61.0</td>\n",
       "      <td>77.0</td>\n",
       "      <td>191.0</td>\n",
       "    </tr>\n",
       "  </tbody>\n",
       "</table>\n",
       "</div>"
      ],
      "text/plain": [
       "       count       mean        std  min   25%   50%   75%    max\n",
       "pm10  1673.0  49.096832  17.623018  3.0  38.0  53.0  61.0  111.0\n",
       "so2   1673.0  23.160789  16.214098  1.0  15.0  20.0  26.0  112.0\n",
       "co    1673.0  21.457262  22.830523  3.0   9.0  14.0  22.0  197.0\n",
       "o3    1673.0  53.389719  30.036779  2.0  31.0  54.0  73.0  191.0\n",
       "no2   1673.0  18.702331  25.867806  1.0   6.0   9.0  13.0  197.0\n",
       "max   1673.0  57.942618  30.717248  1.0  42.0  61.0  77.0  191.0"
      ]
     },
     "execution_count": 18,
     "metadata": {},
     "output_type": "execute_result"
    }
   ],
   "source": [
    "df.describe().T"
   ]
  },
  {
   "cell_type": "markdown",
   "metadata": {},
   "source": [
    "### Check for Data Duplication"
   ]
  },
  {
   "cell_type": "code",
   "execution_count": 19,
   "metadata": {},
   "outputs": [
    {
     "data": {
      "text/plain": [
       "0"
      ]
     },
     "execution_count": 19,
     "metadata": {},
     "output_type": "execute_result"
    }
   ],
   "source": [
    "df.duplicated().sum()"
   ]
  },
  {
   "cell_type": "markdown",
   "metadata": {},
   "source": [
    "There is no duplicate data on our dataset."
   ]
  },
  {
   "cell_type": "markdown",
   "metadata": {},
   "source": [
    "### Checking for Categories Distribution"
   ]
  },
  {
   "cell_type": "code",
   "execution_count": 20,
   "metadata": {},
   "outputs": [
    {
     "data": {
      "text/html": [
       "<div>\n",
       "<style scoped>\n",
       "    .dataframe tbody tr th:only-of-type {\n",
       "        vertical-align: middle;\n",
       "    }\n",
       "\n",
       "    .dataframe tbody tr th {\n",
       "        vertical-align: top;\n",
       "    }\n",
       "\n",
       "    .dataframe thead th {\n",
       "        text-align: right;\n",
       "    }\n",
       "</style>\n",
       "<table border=\"1\" class=\"dataframe\">\n",
       "  <thead>\n",
       "    <tr style=\"text-align: right;\">\n",
       "      <th></th>\n",
       "      <th>category</th>\n",
       "      <th>category_counts</th>\n",
       "    </tr>\n",
       "  </thead>\n",
       "  <tbody>\n",
       "    <tr>\n",
       "      <th>0</th>\n",
       "      <td>SEDANG</td>\n",
       "      <td>1205</td>\n",
       "    </tr>\n",
       "    <tr>\n",
       "      <th>1</th>\n",
       "      <td>BAIK</td>\n",
       "      <td>329</td>\n",
       "    </tr>\n",
       "    <tr>\n",
       "      <th>2</th>\n",
       "      <td>TIDAK SEHAT</td>\n",
       "      <td>139</td>\n",
       "    </tr>\n",
       "  </tbody>\n",
       "</table>\n",
       "</div>"
      ],
      "text/plain": [
       "      category  category_counts\n",
       "0       SEDANG             1205\n",
       "1         BAIK              329\n",
       "2  TIDAK SEHAT              139"
      ]
     },
     "execution_count": 20,
     "metadata": {},
     "output_type": "execute_result"
    }
   ],
   "source": [
    "sum = pd.DataFrame(df['categori'].value_counts().reset_index())\n",
    "sum = sum.rename({'index' : 'category', 'categori':'category_counts'}, axis = 1)\n",
    "sum"
   ]
  },
  {
   "cell_type": "code",
   "execution_count": 21,
   "metadata": {},
   "outputs": [
    {
     "data": {
      "image/png": "[encoded data removed]",
      "text/plain": [
       "<Figure size 504x432 with 1 Axes>"
      ]
     },
     "metadata": {
      "needs_background": "light"
     },
     "output_type": "display_data"
    }
   ],
   "source": [
    "fig, ax = plt.subplots()\n",
    "sns.set(font_scale = 1.4)\n",
    "df['categori'].value_counts().plot(kind='bar', figsize=(7, 6), rot = 0)\n",
    "plt.xlabel('Kategori Kualitas Udara', labelpad=14)\n",
    "labels = [item.get_text() for item in ax.get_xticklabels()]\n",
    "labels = ['Sedang', 'Baik', 'Tidak Sehat']\n",
    "ax.set_xticklabels(labels)\n",
    "plt.ylabel('Jumlah', labelpad=14)\n",
    "plt.title('Jumlah Data Kualitas Udara per Kategori Kualitas', fontsize = 20, pad = 20)\n",
    "plt.show()"
   ]
  },
  {
   "cell_type": "markdown",
   "metadata": {},
   "source": [
    "#### Checking Features Correlations"
   ]
  },
  {
   "cell_type": "code",
   "execution_count": 22,
   "metadata": {},
   "outputs": [
    {
     "data": {
      "image/png": "[encoded data removed]",
      "text/plain": [
       "<Figure size 432x288 with 2 Axes>"
      ]
     },
     "metadata": {},
     "output_type": "display_data"
    }
   ],
   "source": [
    "fig, ax = plt.subplots()\n",
    "sns.set(font_scale = 0.8)\n",
    "ax = sns.heatmap(df.corr(), annot = True, \n",
    "                 cmap = 'YlGnBu', linewidths = .1)\n",
    "plt.title('Features Correlations Heatmap', fontsize = 15, pad = 15)\n",
    "plt.show()"
   ]
  },
  {
   "cell_type": "markdown",
   "metadata": {},
   "source": [
    "#### Boxplot"
   ]
  },
  {
   "cell_type": "code",
   "execution_count": 23,
   "metadata": {},
   "outputs": [],
   "source": [
    "nums = ['pm10', 'so2', 'co', 'o3', 'no2']"
   ]
  },
  {
   "cell_type": "code",
   "execution_count": 24,
   "metadata": {},
   "outputs": [
    {
     "data": {
      "image/png": "[encoded data removed]",
      "text/plain": [
       "<Figure size 576x432 with 5 Axes>"
      ]
     },
     "metadata": {},
     "output_type": "display_data"
    }
   ],
   "source": [
    "plt.figure(figsize=(8, 6))\n",
    "for i in range(len(nums)):\n",
    "  plt.subplot(1, 5, i+1)\n",
    "  sns.boxplot(y = df[nums[i]], color = 'blue')\n",
    "  plt.tight_layout()"
   ]
  },
  {
   "cell_type": "markdown",
   "metadata": {},
   "source": [
    "#### Histplot"
   ]
  },
  {
   "cell_type": "code",
   "execution_count": 25,
   "metadata": {},
   "outputs": [
    {
     "data": {
      "image/png": "[encoded data removed]",
      "text/plain": [
       "<Figure size 1080x720 with 1 Axes>"
      ]
     },
     "metadata": {},
     "output_type": "display_data"
    }
   ],
   "source": [
    "plt.figure(figsize=(15, 10))\n",
    "sns.histplot(x = df['pm10'], color = 'blue', kde = True)\n",
    "plt.title('PM10 Value Distributions', fontsize = 20, pad = 15)\n",
    "plt.tight_layout()\n",
    "plt.show()"
   ]
  },
  {
   "cell_type": "code",
   "execution_count": 26,
   "metadata": {},
   "outputs": [
    {
     "data": {
      "image/png": "[encoded data removed]",
      "text/plain": [
       "<Figure size 1080x720 with 1 Axes>"
      ]
     },
     "metadata": {},
     "output_type": "display_data"
    }
   ],
   "source": [
    "plt.figure(figsize=(15, 10))\n",
    "sns.histplot(x = df['so2'], color = 'blue', kde = True)\n",
    "plt.title('SO2 Value Distributions', fontsize = 20, pad = 15)\n",
    "plt.tight_layout()\n",
    "plt.show()"
   ]
  },
  {
   "cell_type": "code",
   "execution_count": 27,
   "metadata": {},
   "outputs": [
    {
     "data": {
      "image/png": "[encoded data removed]",
      "text/plain": [
       "<Figure size 1080x720 with 1 Axes>"
      ]
     },
     "metadata": {},
     "output_type": "display_data"
    }
   ],
   "source": [
    "plt.figure(figsize=(15, 10))\n",
    "sns.histplot(x = df['co'], color = 'blue', kde = True)\n",
    "plt.title('CO Value Distributions', fontsize = 20, pad = 15)\n",
    "plt.tight_layout()\n",
    "plt.show()"
   ]
  },
  {
   "cell_type": "code",
   "execution_count": 28,
   "metadata": {},
   "outputs": [
    {
     "data": {
      "image/png": "[encoded data removed]",
      "text/plain": [
       "<Figure size 1080x720 with 1 Axes>"
      ]
     },
     "metadata": {},
     "output_type": "display_data"
    }
   ],
   "source": [
    "plt.figure(figsize=(15, 10))\n",
    "sns.histplot(x = df['o3'], color = 'blue', kde = True)\n",
    "plt.title('O3 Value Distributions', fontsize = 20, pad = 15)\n",
    "plt.tight_layout()\n",
    "plt.show()"
   ]
  },
  {
   "cell_type": "code",
   "execution_count": 29,
   "metadata": {},
   "outputs": [
    {
     "data": {
      "image/png": "[encoded data removed]",
      "text/plain": [
       "<Figure size 1080x720 with 1 Axes>"
      ]
     },
     "metadata": {},
     "output_type": "display_data"
    }
   ],
   "source": [
    "plt.figure(figsize=(15, 10))\n",
    "sns.histplot(x = df['no2'], color = 'blue', kde = True)\n",
    "plt.title('NO2 Value Distributions', fontsize = 20, pad = 15)\n",
    "plt.tight_layout()\n",
    "plt.show()"
   ]
  },
  {
   "cell_type": "markdown",
   "metadata": {},
   "source": [
    "### Outliers Handling using Log Transformation"
   ]
  },
  {
   "cell_type": "markdown",
   "metadata": {},
   "source": [
    "Based from our numerical features data, we can see in boxplot visualization section that our data has a lot outliers.\n",
    "\n",
    "We will perform log transformation method for treating outliers on so2, co, o3, and no2, considering the amount of our data. \n",
    "\n",
    "We will use log transform because it is not affected by outliers thus avoiding data loss."
   ]
  },
  {
   "cell_type": "code",
   "execution_count": 30,
   "metadata": {},
   "outputs": [],
   "source": [
    "data_outl = df.copy()"
   ]
  },
  {
   "cell_type": "code",
   "execution_count": 31,
   "metadata": {},
   "outputs": [],
   "source": [
    "#Create Function to Log Transformation\n",
    "def log_tf(value):\n",
    "  return np.log(value)"
   ]
  },
  {
   "cell_type": "code",
   "execution_count": 32,
   "metadata": {},
   "outputs": [
    {
     "name": "stderr",
     "output_type": "stream",
     "text": [
      "C:\\Users\\Fakhrist\\anaconda3\\lib\\site-packages\\seaborn\\_decorators.py:36: FutureWarning: Pass the following variable as a keyword arg: x. From version 0.12, the only valid positional argument will be `data`, and passing other arguments without an explicit keyword will result in an error or misinterpretation.\n",
      "  warnings.warn(\n"
     ]
    },
    {
     "data": {
      "image/png": "[encoded data removed]",
      "text/plain": [
       "<Figure size 432x288 with 1 Axes>"
      ]
     },
     "metadata": {},
     "output_type": "display_data"
    },
    {
     "name": "stderr",
     "output_type": "stream",
     "text": [
      "C:\\Users\\Fakhrist\\anaconda3\\lib\\site-packages\\seaborn\\_decorators.py:36: FutureWarning: Pass the following variable as a keyword arg: x. From version 0.12, the only valid positional argument will be `data`, and passing other arguments without an explicit keyword will result in an error or misinterpretation.\n",
      "  warnings.warn(\n"
     ]
    },
    {
     "data": {
      "image/png": "[encoded data removed]",
      "text/plain": [
       "<Figure size 432x288 with 1 Axes>"
      ]
     },
     "metadata": {},
     "output_type": "display_data"
    }
   ],
   "source": [
    "sns.boxplot(data_outl['co'])\n",
    "plt.title('Boxplot of CO before using Log Transformation')\n",
    "plt.show()\n",
    "\n",
    "# Performing Log Transformation\n",
    "data_outl['co'] = data_outl['co'].apply(log_tf)\n",
    "\n",
    "sns.boxplot(data_outl['co'])\n",
    "plt.title('Boxplot of CO after Log Transformation')\n",
    "plt.show()"
   ]
  },
  {
   "cell_type": "code",
   "execution_count": 33,
   "metadata": {},
   "outputs": [
    {
     "name": "stderr",
     "output_type": "stream",
     "text": [
      "C:\\Users\\Fakhrist\\anaconda3\\lib\\site-packages\\seaborn\\_decorators.py:36: FutureWarning: Pass the following variable as a keyword arg: x. From version 0.12, the only valid positional argument will be `data`, and passing other arguments without an explicit keyword will result in an error or misinterpretation.\n",
      "  warnings.warn(\n"
     ]
    },
    {
     "data": {
      "image/png": "[encoded data removed]",
      "text/plain": [
       "<Figure size 432x288 with 1 Axes>"
      ]
     },
     "metadata": {},
     "output_type": "display_data"
    },
    {
     "name": "stderr",
     "output_type": "stream",
     "text": [
      "C:\\Users\\Fakhrist\\anaconda3\\lib\\site-packages\\seaborn\\_decorators.py:36: FutureWarning: Pass the following variable as a keyword arg: x. From version 0.12, the only valid positional argument will be `data`, and passing other arguments without an explicit keyword will result in an error or misinterpretation.\n",
      "  warnings.warn(\n"
     ]
    },
    {
     "data": {
      "image/png": "[encoded data removed]",
      "text/plain": [
       "<Figure size 432x288 with 1 Axes>"
      ]
     },
     "metadata": {},
     "output_type": "display_data"
    }
   ],
   "source": [
    "sns.boxplot(data_outl['no2'])\n",
    "plt.title('Boxplot of NO2 before using Log Transformation')\n",
    "plt.show()\n",
    "\n",
    "# Performing Log Transformation\n",
    "data_outl['no2'] = data_outl['no2'].apply(log_tf)\n",
    "\n",
    "sns.boxplot(data_outl['no2'])\n",
    "plt.title('Boxplot of NO2 after Log Transformation')\n",
    "plt.show()"
   ]
  },
  {
   "cell_type": "markdown",
   "metadata": {},
   "source": [
    "### Label Encoding"
   ]
  },
  {
   "cell_type": "code",
   "execution_count": 34,
   "metadata": {},
   "outputs": [],
   "source": [
    "data_label = data_outl.copy()"
   ]
  },
  {
   "cell_type": "code",
   "execution_count": 35,
   "metadata": {},
   "outputs": [
    {
     "data": {
      "text/html": [
       "<div>\n",
       "<style scoped>\n",
       "    .dataframe tbody tr th:only-of-type {\n",
       "        vertical-align: middle;\n",
       "    }\n",
       "\n",
       "    .dataframe tbody tr th {\n",
       "        vertical-align: top;\n",
       "    }\n",
       "\n",
       "    .dataframe thead th {\n",
       "        text-align: right;\n",
       "    }\n",
       "</style>\n",
       "<table border=\"1\" class=\"dataframe\">\n",
       "  <thead>\n",
       "    <tr style=\"text-align: right;\">\n",
       "      <th></th>\n",
       "      <th>tanggal</th>\n",
       "      <th>stasiun</th>\n",
       "      <th>pm10</th>\n",
       "      <th>so2</th>\n",
       "      <th>co</th>\n",
       "      <th>o3</th>\n",
       "      <th>no2</th>\n",
       "      <th>max</th>\n",
       "      <th>critical</th>\n",
       "      <th>categori</th>\n",
       "    </tr>\n",
       "  </thead>\n",
       "  <tbody>\n",
       "    <tr>\n",
       "      <th>0</th>\n",
       "      <td>2020-01-01</td>\n",
       "      <td>DKI1 (Bunderan HI)</td>\n",
       "      <td>30</td>\n",
       "      <td>20</td>\n",
       "      <td>2.302585</td>\n",
       "      <td>32</td>\n",
       "      <td>2.197225</td>\n",
       "      <td>32.0</td>\n",
       "      <td>O3</td>\n",
       "      <td>BAIK</td>\n",
       "    </tr>\n",
       "    <tr>\n",
       "      <th>1</th>\n",
       "      <td>2020-01-02</td>\n",
       "      <td>DKI1 (Bunderan HI)</td>\n",
       "      <td>27</td>\n",
       "      <td>22</td>\n",
       "      <td>2.484907</td>\n",
       "      <td>29</td>\n",
       "      <td>2.079442</td>\n",
       "      <td>29.0</td>\n",
       "      <td>O3</td>\n",
       "      <td>BAIK</td>\n",
       "    </tr>\n",
       "    <tr>\n",
       "      <th>2</th>\n",
       "      <td>2020-01-03</td>\n",
       "      <td>DKI1 (Bunderan HI)</td>\n",
       "      <td>39</td>\n",
       "      <td>22</td>\n",
       "      <td>2.639057</td>\n",
       "      <td>32</td>\n",
       "      <td>2.302585</td>\n",
       "      <td>39.0</td>\n",
       "      <td>PM10</td>\n",
       "      <td>BAIK</td>\n",
       "    </tr>\n",
       "    <tr>\n",
       "      <th>3</th>\n",
       "      <td>2020-01-04</td>\n",
       "      <td>DKI1 (Bunderan HI)</td>\n",
       "      <td>34</td>\n",
       "      <td>22</td>\n",
       "      <td>2.639057</td>\n",
       "      <td>38</td>\n",
       "      <td>2.302585</td>\n",
       "      <td>38.0</td>\n",
       "      <td>O3</td>\n",
       "      <td>BAIK</td>\n",
       "    </tr>\n",
       "    <tr>\n",
       "      <th>4</th>\n",
       "      <td>2020-01-05</td>\n",
       "      <td>DKI1 (Bunderan HI)</td>\n",
       "      <td>35</td>\n",
       "      <td>22</td>\n",
       "      <td>2.484907</td>\n",
       "      <td>31</td>\n",
       "      <td>2.197225</td>\n",
       "      <td>35.0</td>\n",
       "      <td>PM10</td>\n",
       "      <td>BAIK</td>\n",
       "    </tr>\n",
       "    <tr>\n",
       "      <th>...</th>\n",
       "      <td>...</td>\n",
       "      <td>...</td>\n",
       "      <td>...</td>\n",
       "      <td>...</td>\n",
       "      <td>...</td>\n",
       "      <td>...</td>\n",
       "      <td>...</td>\n",
       "      <td>...</td>\n",
       "      <td>...</td>\n",
       "      <td>...</td>\n",
       "    </tr>\n",
       "    <tr>\n",
       "      <th>1822</th>\n",
       "      <td>2020-12-24</td>\n",
       "      <td>DKI5 (Kebon Jeruk) Jakarta Barat</td>\n",
       "      <td>29</td>\n",
       "      <td>31</td>\n",
       "      <td>2.197225</td>\n",
       "      <td>28</td>\n",
       "      <td>0.693147</td>\n",
       "      <td>31.0</td>\n",
       "      <td>PM25</td>\n",
       "      <td>BAIK</td>\n",
       "    </tr>\n",
       "    <tr>\n",
       "      <th>1823</th>\n",
       "      <td>2020-12-25</td>\n",
       "      <td>DKI5 (Kebon Jeruk) Jakarta Barat</td>\n",
       "      <td>24</td>\n",
       "      <td>27</td>\n",
       "      <td>1.945910</td>\n",
       "      <td>18</td>\n",
       "      <td>1.098612</td>\n",
       "      <td>27.0</td>\n",
       "      <td>PM25</td>\n",
       "      <td>BAIK</td>\n",
       "    </tr>\n",
       "    <tr>\n",
       "      <th>1826</th>\n",
       "      <td>2020-12-28</td>\n",
       "      <td>DKI5 (Kebon Jeruk) Jakarta Barat</td>\n",
       "      <td>22</td>\n",
       "      <td>33</td>\n",
       "      <td>1.609438</td>\n",
       "      <td>35</td>\n",
       "      <td>1.098612</td>\n",
       "      <td>35.0</td>\n",
       "      <td>CO</td>\n",
       "      <td>BAIK</td>\n",
       "    </tr>\n",
       "    <tr>\n",
       "      <th>1828</th>\n",
       "      <td>2020-12-30</td>\n",
       "      <td>DKI5 (Kebon Jeruk) Jakarta Barat</td>\n",
       "      <td>16</td>\n",
       "      <td>7</td>\n",
       "      <td>1.098612</td>\n",
       "      <td>21</td>\n",
       "      <td>0.693147</td>\n",
       "      <td>21.0</td>\n",
       "      <td>CO</td>\n",
       "      <td>BAIK</td>\n",
       "    </tr>\n",
       "    <tr>\n",
       "      <th>1829</th>\n",
       "      <td>2020-12-31</td>\n",
       "      <td>DKI5 (Kebon Jeruk) Jakarta Barat</td>\n",
       "      <td>18</td>\n",
       "      <td>13</td>\n",
       "      <td>1.791759</td>\n",
       "      <td>24</td>\n",
       "      <td>1.098612</td>\n",
       "      <td>24.0</td>\n",
       "      <td>CO</td>\n",
       "      <td>BAIK</td>\n",
       "    </tr>\n",
       "  </tbody>\n",
       "</table>\n",
       "<p>1673 rows × 10 columns</p>\n",
       "</div>"
      ],
      "text/plain": [
       "        tanggal                           stasiun  pm10  so2        co  o3  \\\n",
       "0    2020-01-01                DKI1 (Bunderan HI)    30   20  2.302585  32   \n",
       "1    2020-01-02                DKI1 (Bunderan HI)    27   22  2.484907  29   \n",
       "2    2020-01-03                DKI1 (Bunderan HI)    39   22  2.639057  32   \n",
       "3    2020-01-04                DKI1 (Bunderan HI)    34   22  2.639057  38   \n",
       "4    2020-01-05                DKI1 (Bunderan HI)    35   22  2.484907  31   \n",
       "...         ...                               ...   ...  ...       ...  ..   \n",
       "1822 2020-12-24  DKI5 (Kebon Jeruk) Jakarta Barat    29   31  2.197225  28   \n",
       "1823 2020-12-25  DKI5 (Kebon Jeruk) Jakarta Barat    24   27  1.945910  18   \n",
       "1826 2020-12-28  DKI5 (Kebon Jeruk) Jakarta Barat    22   33  1.609438  35   \n",
       "1828 2020-12-30  DKI5 (Kebon Jeruk) Jakarta Barat    16    7  1.098612  21   \n",
       "1829 2020-12-31  DKI5 (Kebon Jeruk) Jakarta Barat    18   13  1.791759  24   \n",
       "\n",
       "           no2   max critical categori  \n",
       "0     2.197225  32.0       O3     BAIK  \n",
       "1     2.079442  29.0       O3     BAIK  \n",
       "2     2.302585  39.0     PM10     BAIK  \n",
       "3     2.302585  38.0       O3     BAIK  \n",
       "4     2.197225  35.0     PM10     BAIK  \n",
       "...        ...   ...      ...      ...  \n",
       "1822  0.693147  31.0     PM25     BAIK  \n",
       "1823  1.098612  27.0     PM25     BAIK  \n",
       "1826  1.098612  35.0       CO     BAIK  \n",
       "1828  0.693147  21.0       CO     BAIK  \n",
       "1829  1.098612  24.0       CO     BAIK  \n",
       "\n",
       "[1673 rows x 10 columns]"
      ]
     },
     "execution_count": 35,
     "metadata": {},
     "output_type": "execute_result"
    }
   ],
   "source": [
    "data_label"
   ]
  },
  {
   "cell_type": "code",
   "execution_count": 36,
   "metadata": {},
   "outputs": [],
   "source": [
    "label_encoder = preprocessing.LabelEncoder()"
   ]
  },
  {
   "cell_type": "code",
   "execution_count": 37,
   "metadata": {},
   "outputs": [
    {
     "data": {
      "text/plain": [
       "array([0, 1, 2])"
      ]
     },
     "execution_count": 37,
     "metadata": {},
     "output_type": "execute_result"
    }
   ],
   "source": [
    "data_label['categori'] = label_encoder.fit_transform(data_label['categori'])\n",
    "data_label['categori'].unique()"
   ]
  },
  {
   "cell_type": "code",
   "execution_count": 38,
   "metadata": {},
   "outputs": [
    {
     "data": {
      "text/plain": [
       "1    1205\n",
       "0     329\n",
       "2     139\n",
       "Name: categori, dtype: int64"
      ]
     },
     "execution_count": 38,
     "metadata": {},
     "output_type": "execute_result"
    }
   ],
   "source": [
    "data_label['categori'].value_counts()"
   ]
  },
  {
   "cell_type": "code",
   "execution_count": 39,
   "metadata": {},
   "outputs": [
    {
     "data": {
      "text/plain": [
       "SEDANG         1205\n",
       "BAIK            329\n",
       "TIDAK SEHAT     139\n",
       "Name: categori, dtype: int64"
      ]
     },
     "execution_count": 39,
     "metadata": {},
     "output_type": "execute_result"
    }
   ],
   "source": [
    "data_outl['categori'].value_counts()"
   ]
  },
  {
   "cell_type": "markdown",
   "metadata": {},
   "source": [
    "Based from label encoding process, quality 'SEDANG' corresponds to label 1, quality 'BAIK' corresponds to label 0, and quality 'TIDAK SEHAT' corresponds to label 2."
   ]
  },
  {
   "cell_type": "markdown",
   "metadata": {},
   "source": [
    "### Feature Engineering"
   ]
  },
  {
   "cell_type": "code",
   "execution_count": 40,
   "metadata": {},
   "outputs": [],
   "source": [
    "data_fe = data_label.copy()"
   ]
  },
  {
   "cell_type": "code",
   "execution_count": 41,
   "metadata": {},
   "outputs": [
    {
     "data": {
      "text/html": [
       "<div>\n",
       "<style scoped>\n",
       "    .dataframe tbody tr th:only-of-type {\n",
       "        vertical-align: middle;\n",
       "    }\n",
       "\n",
       "    .dataframe tbody tr th {\n",
       "        vertical-align: top;\n",
       "    }\n",
       "\n",
       "    .dataframe thead th {\n",
       "        text-align: right;\n",
       "    }\n",
       "</style>\n",
       "<table border=\"1\" class=\"dataframe\">\n",
       "  <thead>\n",
       "    <tr style=\"text-align: right;\">\n",
       "      <th></th>\n",
       "      <th>tanggal</th>\n",
       "      <th>stasiun</th>\n",
       "      <th>pm10</th>\n",
       "      <th>so2</th>\n",
       "      <th>co</th>\n",
       "      <th>o3</th>\n",
       "      <th>no2</th>\n",
       "      <th>max</th>\n",
       "      <th>critical</th>\n",
       "      <th>categori</th>\n",
       "    </tr>\n",
       "  </thead>\n",
       "  <tbody>\n",
       "    <tr>\n",
       "      <th>0</th>\n",
       "      <td>2020-01-01</td>\n",
       "      <td>DKI1 (Bunderan HI)</td>\n",
       "      <td>30</td>\n",
       "      <td>20</td>\n",
       "      <td>2.302585</td>\n",
       "      <td>32</td>\n",
       "      <td>2.197225</td>\n",
       "      <td>32.0</td>\n",
       "      <td>O3</td>\n",
       "      <td>0</td>\n",
       "    </tr>\n",
       "    <tr>\n",
       "      <th>1</th>\n",
       "      <td>2020-01-02</td>\n",
       "      <td>DKI1 (Bunderan HI)</td>\n",
       "      <td>27</td>\n",
       "      <td>22</td>\n",
       "      <td>2.484907</td>\n",
       "      <td>29</td>\n",
       "      <td>2.079442</td>\n",
       "      <td>29.0</td>\n",
       "      <td>O3</td>\n",
       "      <td>0</td>\n",
       "    </tr>\n",
       "    <tr>\n",
       "      <th>2</th>\n",
       "      <td>2020-01-03</td>\n",
       "      <td>DKI1 (Bunderan HI)</td>\n",
       "      <td>39</td>\n",
       "      <td>22</td>\n",
       "      <td>2.639057</td>\n",
       "      <td>32</td>\n",
       "      <td>2.302585</td>\n",
       "      <td>39.0</td>\n",
       "      <td>PM10</td>\n",
       "      <td>0</td>\n",
       "    </tr>\n",
       "    <tr>\n",
       "      <th>3</th>\n",
       "      <td>2020-01-04</td>\n",
       "      <td>DKI1 (Bunderan HI)</td>\n",
       "      <td>34</td>\n",
       "      <td>22</td>\n",
       "      <td>2.639057</td>\n",
       "      <td>38</td>\n",
       "      <td>2.302585</td>\n",
       "      <td>38.0</td>\n",
       "      <td>O3</td>\n",
       "      <td>0</td>\n",
       "    </tr>\n",
       "    <tr>\n",
       "      <th>4</th>\n",
       "      <td>2020-01-05</td>\n",
       "      <td>DKI1 (Bunderan HI)</td>\n",
       "      <td>35</td>\n",
       "      <td>22</td>\n",
       "      <td>2.484907</td>\n",
       "      <td>31</td>\n",
       "      <td>2.197225</td>\n",
       "      <td>35.0</td>\n",
       "      <td>PM10</td>\n",
       "      <td>0</td>\n",
       "    </tr>\n",
       "    <tr>\n",
       "      <th>...</th>\n",
       "      <td>...</td>\n",
       "      <td>...</td>\n",
       "      <td>...</td>\n",
       "      <td>...</td>\n",
       "      <td>...</td>\n",
       "      <td>...</td>\n",
       "      <td>...</td>\n",
       "      <td>...</td>\n",
       "      <td>...</td>\n",
       "      <td>...</td>\n",
       "    </tr>\n",
       "    <tr>\n",
       "      <th>1822</th>\n",
       "      <td>2020-12-24</td>\n",
       "      <td>DKI5 (Kebon Jeruk) Jakarta Barat</td>\n",
       "      <td>29</td>\n",
       "      <td>31</td>\n",
       "      <td>2.197225</td>\n",
       "      <td>28</td>\n",
       "      <td>0.693147</td>\n",
       "      <td>31.0</td>\n",
       "      <td>PM25</td>\n",
       "      <td>0</td>\n",
       "    </tr>\n",
       "    <tr>\n",
       "      <th>1823</th>\n",
       "      <td>2020-12-25</td>\n",
       "      <td>DKI5 (Kebon Jeruk) Jakarta Barat</td>\n",
       "      <td>24</td>\n",
       "      <td>27</td>\n",
       "      <td>1.945910</td>\n",
       "      <td>18</td>\n",
       "      <td>1.098612</td>\n",
       "      <td>27.0</td>\n",
       "      <td>PM25</td>\n",
       "      <td>0</td>\n",
       "    </tr>\n",
       "    <tr>\n",
       "      <th>1826</th>\n",
       "      <td>2020-12-28</td>\n",
       "      <td>DKI5 (Kebon Jeruk) Jakarta Barat</td>\n",
       "      <td>22</td>\n",
       "      <td>33</td>\n",
       "      <td>1.609438</td>\n",
       "      <td>35</td>\n",
       "      <td>1.098612</td>\n",
       "      <td>35.0</td>\n",
       "      <td>CO</td>\n",
       "      <td>0</td>\n",
       "    </tr>\n",
       "    <tr>\n",
       "      <th>1828</th>\n",
       "      <td>2020-12-30</td>\n",
       "      <td>DKI5 (Kebon Jeruk) Jakarta Barat</td>\n",
       "      <td>16</td>\n",
       "      <td>7</td>\n",
       "      <td>1.098612</td>\n",
       "      <td>21</td>\n",
       "      <td>0.693147</td>\n",
       "      <td>21.0</td>\n",
       "      <td>CO</td>\n",
       "      <td>0</td>\n",
       "    </tr>\n",
       "    <tr>\n",
       "      <th>1829</th>\n",
       "      <td>2020-12-31</td>\n",
       "      <td>DKI5 (Kebon Jeruk) Jakarta Barat</td>\n",
       "      <td>18</td>\n",
       "      <td>13</td>\n",
       "      <td>1.791759</td>\n",
       "      <td>24</td>\n",
       "      <td>1.098612</td>\n",
       "      <td>24.0</td>\n",
       "      <td>CO</td>\n",
       "      <td>0</td>\n",
       "    </tr>\n",
       "  </tbody>\n",
       "</table>\n",
       "<p>1673 rows × 10 columns</p>\n",
       "</div>"
      ],
      "text/plain": [
       "        tanggal                           stasiun  pm10  so2        co  o3  \\\n",
       "0    2020-01-01                DKI1 (Bunderan HI)    30   20  2.302585  32   \n",
       "1    2020-01-02                DKI1 (Bunderan HI)    27   22  2.484907  29   \n",
       "2    2020-01-03                DKI1 (Bunderan HI)    39   22  2.639057  32   \n",
       "3    2020-01-04                DKI1 (Bunderan HI)    34   22  2.639057  38   \n",
       "4    2020-01-05                DKI1 (Bunderan HI)    35   22  2.484907  31   \n",
       "...         ...                               ...   ...  ...       ...  ..   \n",
       "1822 2020-12-24  DKI5 (Kebon Jeruk) Jakarta Barat    29   31  2.197225  28   \n",
       "1823 2020-12-25  DKI5 (Kebon Jeruk) Jakarta Barat    24   27  1.945910  18   \n",
       "1826 2020-12-28  DKI5 (Kebon Jeruk) Jakarta Barat    22   33  1.609438  35   \n",
       "1828 2020-12-30  DKI5 (Kebon Jeruk) Jakarta Barat    16    7  1.098612  21   \n",
       "1829 2020-12-31  DKI5 (Kebon Jeruk) Jakarta Barat    18   13  1.791759  24   \n",
       "\n",
       "           no2   max critical  categori  \n",
       "0     2.197225  32.0       O3         0  \n",
       "1     2.079442  29.0       O3         0  \n",
       "2     2.302585  39.0     PM10         0  \n",
       "3     2.302585  38.0       O3         0  \n",
       "4     2.197225  35.0     PM10         0  \n",
       "...        ...   ...      ...       ...  \n",
       "1822  0.693147  31.0     PM25         0  \n",
       "1823  1.098612  27.0     PM25         0  \n",
       "1826  1.098612  35.0       CO         0  \n",
       "1828  0.693147  21.0       CO         0  \n",
       "1829  1.098612  24.0       CO         0  \n",
       "\n",
       "[1673 rows x 10 columns]"
      ]
     },
     "execution_count": 41,
     "metadata": {},
     "output_type": "execute_result"
    }
   ],
   "source": [
    "data_fe"
   ]
  },
  {
   "cell_type": "code",
   "execution_count": 42,
   "metadata": {},
   "outputs": [
    {
     "data": {
      "text/html": [
       "<div>\n",
       "<style scoped>\n",
       "    .dataframe tbody tr th:only-of-type {\n",
       "        vertical-align: middle;\n",
       "    }\n",
       "\n",
       "    .dataframe tbody tr th {\n",
       "        vertical-align: top;\n",
       "    }\n",
       "\n",
       "    .dataframe thead th {\n",
       "        text-align: right;\n",
       "    }\n",
       "</style>\n",
       "<table border=\"1\" class=\"dataframe\">\n",
       "  <thead>\n",
       "    <tr style=\"text-align: right;\">\n",
       "      <th></th>\n",
       "      <th>pm10</th>\n",
       "      <th>so2</th>\n",
       "      <th>co</th>\n",
       "      <th>o3</th>\n",
       "      <th>no2</th>\n",
       "      <th>categori</th>\n",
       "    </tr>\n",
       "  </thead>\n",
       "  <tbody>\n",
       "    <tr>\n",
       "      <th>0</th>\n",
       "      <td>30</td>\n",
       "      <td>20</td>\n",
       "      <td>2.302585</td>\n",
       "      <td>32</td>\n",
       "      <td>2.197225</td>\n",
       "      <td>0</td>\n",
       "    </tr>\n",
       "    <tr>\n",
       "      <th>1</th>\n",
       "      <td>27</td>\n",
       "      <td>22</td>\n",
       "      <td>2.484907</td>\n",
       "      <td>29</td>\n",
       "      <td>2.079442</td>\n",
       "      <td>0</td>\n",
       "    </tr>\n",
       "    <tr>\n",
       "      <th>2</th>\n",
       "      <td>39</td>\n",
       "      <td>22</td>\n",
       "      <td>2.639057</td>\n",
       "      <td>32</td>\n",
       "      <td>2.302585</td>\n",
       "      <td>0</td>\n",
       "    </tr>\n",
       "    <tr>\n",
       "      <th>3</th>\n",
       "      <td>34</td>\n",
       "      <td>22</td>\n",
       "      <td>2.639057</td>\n",
       "      <td>38</td>\n",
       "      <td>2.302585</td>\n",
       "      <td>0</td>\n",
       "    </tr>\n",
       "    <tr>\n",
       "      <th>4</th>\n",
       "      <td>35</td>\n",
       "      <td>22</td>\n",
       "      <td>2.484907</td>\n",
       "      <td>31</td>\n",
       "      <td>2.197225</td>\n",
       "      <td>0</td>\n",
       "    </tr>\n",
       "    <tr>\n",
       "      <th>...</th>\n",
       "      <td>...</td>\n",
       "      <td>...</td>\n",
       "      <td>...</td>\n",
       "      <td>...</td>\n",
       "      <td>...</td>\n",
       "      <td>...</td>\n",
       "    </tr>\n",
       "    <tr>\n",
       "      <th>1822</th>\n",
       "      <td>29</td>\n",
       "      <td>31</td>\n",
       "      <td>2.197225</td>\n",
       "      <td>28</td>\n",
       "      <td>0.693147</td>\n",
       "      <td>0</td>\n",
       "    </tr>\n",
       "    <tr>\n",
       "      <th>1823</th>\n",
       "      <td>24</td>\n",
       "      <td>27</td>\n",
       "      <td>1.945910</td>\n",
       "      <td>18</td>\n",
       "      <td>1.098612</td>\n",
       "      <td>0</td>\n",
       "    </tr>\n",
       "    <tr>\n",
       "      <th>1826</th>\n",
       "      <td>22</td>\n",
       "      <td>33</td>\n",
       "      <td>1.609438</td>\n",
       "      <td>35</td>\n",
       "      <td>1.098612</td>\n",
       "      <td>0</td>\n",
       "    </tr>\n",
       "    <tr>\n",
       "      <th>1828</th>\n",
       "      <td>16</td>\n",
       "      <td>7</td>\n",
       "      <td>1.098612</td>\n",
       "      <td>21</td>\n",
       "      <td>0.693147</td>\n",
       "      <td>0</td>\n",
       "    </tr>\n",
       "    <tr>\n",
       "      <th>1829</th>\n",
       "      <td>18</td>\n",
       "      <td>13</td>\n",
       "      <td>1.791759</td>\n",
       "      <td>24</td>\n",
       "      <td>1.098612</td>\n",
       "      <td>0</td>\n",
       "    </tr>\n",
       "  </tbody>\n",
       "</table>\n",
       "<p>1673 rows × 6 columns</p>\n",
       "</div>"
      ],
      "text/plain": [
       "      pm10  so2        co  o3       no2  categori\n",
       "0       30   20  2.302585  32  2.197225         0\n",
       "1       27   22  2.484907  29  2.079442         0\n",
       "2       39   22  2.639057  32  2.302585         0\n",
       "3       34   22  2.639057  38  2.302585         0\n",
       "4       35   22  2.484907  31  2.197225         0\n",
       "...    ...  ...       ...  ..       ...       ...\n",
       "1822    29   31  2.197225  28  0.693147         0\n",
       "1823    24   27  1.945910  18  1.098612         0\n",
       "1826    22   33  1.609438  35  1.098612         0\n",
       "1828    16    7  1.098612  21  0.693147         0\n",
       "1829    18   13  1.791759  24  1.098612         0\n",
       "\n",
       "[1673 rows x 6 columns]"
      ]
     },
     "execution_count": 42,
     "metadata": {},
     "output_type": "execute_result"
    }
   ],
   "source": [
    "features = ['pm10', 'so2', 'co', 'o3', 'no2', 'categori']\n",
    "data_fe = data_fe.loc[:, features]\n",
    "data_fe"
   ]
  },
  {
   "cell_type": "markdown",
   "metadata": {},
   "source": [
    "### Data Preprocessing"
   ]
  },
  {
   "cell_type": "markdown",
   "metadata": {},
   "source": [
    "#### Data Normalization"
   ]
  },
  {
   "cell_type": "code",
   "execution_count": 43,
   "metadata": {},
   "outputs": [],
   "source": [
    "data_norm = data_fe.copy()"
   ]
  },
  {
   "cell_type": "code",
   "execution_count": 44,
   "metadata": {},
   "outputs": [],
   "source": [
    "#Pilihan yang akan di normalisasi\n",
    "labelNorm = ['pm10','so2','co','o3','no2']"
   ]
  },
  {
   "cell_type": "markdown",
   "metadata": {},
   "source": [
    "##### Using Robust Scaling"
   ]
  },
  {
   "cell_type": "code",
   "execution_count": 45,
   "metadata": {},
   "outputs": [],
   "source": [
    "# Using Robust Scaling\n",
    "from sklearn.preprocessing import RobustScaler\n",
    "rs = RobustScaler()"
   ]
  },
  {
   "cell_type": "code",
   "execution_count": 46,
   "metadata": {},
   "outputs": [],
   "source": [
    "#Fungsi Normalisasi Robust Scaling\n",
    "def AirRobust(dtframe,label):\n",
    "    dtframe[label] = rs.fit_transform(dtframe[[label]])"
   ]
  },
  {
   "cell_type": "code",
   "execution_count": 47,
   "metadata": {},
   "outputs": [],
   "source": [
    "#Copy dataframe\n",
    "air_robust = data_norm.copy()"
   ]
  },
  {
   "cell_type": "code",
   "execution_count": 48,
   "metadata": {},
   "outputs": [],
   "source": [
    "#Proses Normalisasi\n",
    "for column in labelNorm:\n",
    "    AirRobust(air_robust,column)"
   ]
  },
  {
   "cell_type": "markdown",
   "metadata": {},
   "source": [
    "##### Using MinMax Scaller"
   ]
  },
  {
   "cell_type": "code",
   "execution_count": 49,
   "metadata": {},
   "outputs": [],
   "source": [
    "#Min Max Scaller\n",
    "from sklearn.preprocessing import MinMaxScaler\n",
    "mm = MinMaxScaler()"
   ]
  },
  {
   "cell_type": "code",
   "execution_count": 50,
   "metadata": {},
   "outputs": [],
   "source": [
    "#Fungsi Normalisasi Robust Scaling\n",
    "def AirMinMaxScaller(dtframe,label):\n",
    "    dtframe[label] = mm.fit_transform(dtframe[[label]])"
   ]
  },
  {
   "cell_type": "code",
   "execution_count": 51,
   "metadata": {},
   "outputs": [],
   "source": [
    "#Copy dataframe\n",
    "air_minmax = data_norm.copy()"
   ]
  },
  {
   "cell_type": "code",
   "execution_count": 52,
   "metadata": {},
   "outputs": [],
   "source": [
    "#Proses Normalisasi\n",
    "for column in labelNorm:\n",
    "    AirMinMaxScaller(air_minmax,column)"
   ]
  },
  {
   "cell_type": "markdown",
   "metadata": {},
   "source": [
    "##### Using StdScaller"
   ]
  },
  {
   "cell_type": "code",
   "execution_count": 53,
   "metadata": {},
   "outputs": [],
   "source": [
    "#Std Scaller\n",
    "from sklearn.preprocessing import StandardScaler\n",
    "sc = StandardScaler()"
   ]
  },
  {
   "cell_type": "code",
   "execution_count": 54,
   "metadata": {},
   "outputs": [],
   "source": [
    "#Fungsi Normalisasi Robust Scaling\n",
    "def AirStdScaller(dtframe,label):\n",
    "    dtframe[label] = sc.fit_transform(dtframe[[label]])"
   ]
  },
  {
   "cell_type": "code",
   "execution_count": 55,
   "metadata": {},
   "outputs": [],
   "source": [
    "#Copy dataframe\n",
    "air_stdsclr = data_norm.copy()"
   ]
  },
  {
   "cell_type": "code",
   "execution_count": 56,
   "metadata": {},
   "outputs": [],
   "source": [
    "#Proses Normalisasi\n",
    "for column in labelNorm:\n",
    "    AirStdScaller(air_stdsclr,column)"
   ]
  },
  {
   "cell_type": "markdown",
   "metadata": {},
   "source": [
    "# **3. Modelling**"
   ]
  },
  {
   "cell_type": "code",
   "execution_count": 57,
   "metadata": {},
   "outputs": [],
   "source": [
    "#Additional Library\n",
    "# import library for build model \n",
    "from sklearn.linear_model import LogisticRegression\n",
    "from sklearn.svm import SVC\n",
    "from sklearn.ensemble import RandomForestClassifier\n",
    "from sklearn.neighbors import KNeighborsClassifier\n",
    "from sklearn.naive_bayes import GaussianNB\n",
    "from sklearn.model_selection import train_test_split\n",
    "\n",
    "# import library untuk evaluasi \n",
    "from sklearn.metrics import r2_score\n",
    "from sklearn.metrics import f1_score\n",
    "from sklearn.metrics import classification_report\n",
    "from sklearn.metrics import confusion_matrix\n",
    "from sklearn.metrics import accuracy_score,precision_score,recall_score"
   ]
  },
  {
   "cell_type": "code",
   "execution_count": 58,
   "metadata": {},
   "outputs": [],
   "source": [
    "testSize = 0.3\n",
    "randState = 7"
   ]
  },
  {
   "cell_type": "markdown",
   "metadata": {},
   "source": [
    "#### LogisticRegression"
   ]
  },
  {
   "cell_type": "code",
   "execution_count": 59,
   "metadata": {},
   "outputs": [],
   "source": [
    "#Buat function untuk otomatisasi training & testing\n",
    "LRG_list = ['LogisticRegression']\n",
    "def modelTrainTestLRG(df_air,testSize,randState):\n",
    "  \n",
    "    X=df_air.iloc[:,:5].values\n",
    "    y=df_air.iloc[:,-1:].values\n",
    "    y = y.reshape(-1)\n",
    "\n",
    "    #Membagi size antara data training dan data test 8:2\n",
    "    X_train, X_test, y_train, y_test = train_test_split(X,y,test_size=testSize,random_state=randState)\n",
    "    \n",
    "    #Training dengan Logistic Regression\n",
    "    logreg = LogisticRegression(solver= 'lbfgs',max_iter=400)\n",
    "    logreg.fit(X_train, y_train)\n",
    "    Y_pred = logreg.predict(X_test)\n",
    "    valTrain = logreg.score(X_train, y_train)    \n",
    "    valTest = logreg.score(X_test, y_test)    \n",
    "\n",
    "    #Evaluation\n",
    "    cm = confusion_matrix(y_test,Y_pred)\n",
    "    accuracy = accuracy_score(y_test,Y_pred)\n",
    "    precision = precision_score(y_test, Y_pred,average='micro')\n",
    "    recall = recall_score(y_test, Y_pred,average='micro')\n",
    "    f1 = f1_score(y_test,Y_pred,average='micro')\n",
    "    \n",
    "    #Cetak Evaluasi   \n",
    "    print('Confusion matrix : \\n',cm)\n",
    "    print('Training         : %.3f' %valTrain)\n",
    "    print('Testing          : %.3f' %valTest)     \n",
    "    print('Accuracy         : %.3f' %accuracy)\n",
    "    print('precision        : %.3f' %precision)\n",
    "    print('Recall           : %.3f' %recall)\n",
    "    print('F1-score         : %.3f' %f1)\n",
    "    \n",
    "    #Save Score\n",
    "    LRG_list.append(valTrain)\n",
    "    LRG_list.append(valTest)    \n",
    "    LRG_list.append(accuracy*100)\n",
    "    LRG_list.append(precision*100)\n",
    "    LRG_list.append(recall*100)\n",
    "    LRG_list.append(f1*100)"
   ]
  },
  {
   "cell_type": "code",
   "execution_count": 60,
   "metadata": {},
   "outputs": [
    {
     "name": "stdout",
     "output_type": "stream",
     "text": [
      "----RobustScaller-----\n",
      "Confusion matrix : \n",
      " [[ 77  25   0]\n",
      " [ 15 337   5]\n",
      " [  0  18  25]]\n",
      "Training         : 0.859\n",
      "Testing          : 0.875\n",
      "Accuracy         : 0.875\n",
      "precision        : 0.875\n",
      "Recall           : 0.875\n",
      "F1-score         : 0.875\n",
      "----MinMaxScaller-----\n",
      "Confusion matrix : \n",
      " [[ 63  39   0]\n",
      " [ 13 344   0]\n",
      " [  0  37   6]]\n",
      "Training         : 0.821\n",
      "Testing          : 0.823\n",
      "Accuracy         : 0.823\n",
      "precision        : 0.823\n",
      "Recall           : 0.823\n",
      "F1-score         : 0.823\n",
      "----StdScaller-----\n",
      "Confusion matrix : \n",
      " [[ 78  24   0]\n",
      " [ 13 338   6]\n",
      " [  0  18  25]]\n",
      "Training         : 0.860\n",
      "Testing          : 0.878\n",
      "Accuracy         : 0.878\n",
      "precision        : 0.878\n",
      "Recall           : 0.878\n",
      "F1-score         : 0.878\n"
     ]
    }
   ],
   "source": [
    "#Proses Training & Eval\n",
    "print('----RobustScaller-----')\n",
    "modelTrainTestLRG(air_robust,testSize,randState)\n",
    "print('----MinMaxScaller-----')\n",
    "modelTrainTestLRG(air_minmax,testSize,randState)\n",
    "print('----StdScaller-----')\n",
    "modelTrainTestLRG(air_stdsclr,testSize,randState)"
   ]
  },
  {
   "cell_type": "markdown",
   "metadata": {},
   "source": [
    "#### SVC"
   ]
  },
  {
   "cell_type": "code",
   "execution_count": 61,
   "metadata": {},
   "outputs": [],
   "source": [
    "#Buat function untuk otomatisasi training & testing\n",
    "SVC_list = ['SVC']\n",
    "def modelTrainTestSVC(df_air,testSize,randState):\n",
    "  \n",
    "    X=df_air.iloc[:,:5].values\n",
    "    y=df_air.iloc[:,-1:].values\n",
    "    y = y.reshape(-1)\n",
    "\n",
    "    #Membagi size antara data training dan data test 8:2\n",
    "    X_train, X_test, y_train, y_test = train_test_split(X,y,test_size=testSize,random_state=randState)\n",
    "    \n",
    "    #Training dengan Logistic Regression\n",
    "    svc = SVC()\n",
    "    svc.fit(X_train, y_train)\n",
    "    Y_pred = svc.predict(X_test)\n",
    "    valTrain = svc.score(X_train, y_train)    \n",
    "    valTest = svc.score(X_test, y_test)    \n",
    "\n",
    "    #Evaluation\n",
    "    cm = confusion_matrix(y_test,Y_pred)\n",
    "    accuracy = accuracy_score(y_test,Y_pred)\n",
    "    precision = precision_score(y_test, Y_pred,average='micro')\n",
    "    recall = recall_score(y_test, Y_pred,average='micro')\n",
    "    f1 = f1_score(y_test,Y_pred,average='micro')\n",
    "    \n",
    "    #Cetak Evaluasi   \n",
    "    print('Confusion matrix : \\n',cm)\n",
    "    print('Training         : %.3f' %valTrain)\n",
    "    print('Testing          : %.3f' %valTest)     \n",
    "    print('Accuracy         : %.3f' %accuracy)\n",
    "    print('precision        : %.3f' %precision)\n",
    "    print('Recall           : %.3f' %recall)\n",
    "    print('F1-score         : %.3f' %f1)\n",
    "    \n",
    "    #Save Score\n",
    "    SVC_list.append(valTrain)\n",
    "    SVC_list.append(valTest)    \n",
    "    SVC_list.append(accuracy*100)\n",
    "    SVC_list.append(precision*100)\n",
    "    SVC_list.append(recall*100)\n",
    "    SVC_list.append(f1*100)"
   ]
  },
  {
   "cell_type": "code",
   "execution_count": 62,
   "metadata": {},
   "outputs": [
    {
     "name": "stdout",
     "output_type": "stream",
     "text": [
      "----RobustScaller-----\n",
      "Confusion matrix : \n",
      " [[ 85  17   0]\n",
      " [  6 349   2]\n",
      " [  0  14  29]]\n",
      "Training         : 0.939\n",
      "Testing          : 0.922\n",
      "Accuracy         : 0.922\n",
      "precision        : 0.922\n",
      "Recall           : 0.922\n",
      "F1-score         : 0.922\n",
      "----MinMaxScaller-----\n",
      "Confusion matrix : \n",
      " [[ 87  15   0]\n",
      " [  7 350   0]\n",
      " [  0  12  31]]\n",
      "Training         : 0.934\n",
      "Testing          : 0.932\n",
      "Accuracy         : 0.932\n",
      "precision        : 0.932\n",
      "Recall           : 0.932\n",
      "F1-score         : 0.932\n",
      "----StdScaller-----\n",
      "Confusion matrix : \n",
      " [[ 88  14   0]\n",
      " [  8 349   0]\n",
      " [  0  13  30]]\n",
      "Training         : 0.942\n",
      "Testing          : 0.930\n",
      "Accuracy         : 0.930\n",
      "precision        : 0.930\n",
      "Recall           : 0.930\n",
      "F1-score         : 0.930\n"
     ]
    }
   ],
   "source": [
    "#Proses Training & Eval\n",
    "testSize = 0.3\n",
    "randState = 7\n",
    "print('----RobustScaller-----')\n",
    "modelTrainTestSVC(air_robust,testSize,randState)\n",
    "print('----MinMaxScaller-----')\n",
    "modelTrainTestSVC(air_minmax,testSize,randState)\n",
    "print('----StdScaller-----')\n",
    "modelTrainTestSVC(air_stdsclr,testSize,randState)"
   ]
  },
  {
   "cell_type": "markdown",
   "metadata": {},
   "source": [
    "### Random Forest"
   ]
  },
  {
   "cell_type": "code",
   "execution_count": 63,
   "metadata": {},
   "outputs": [],
   "source": [
    "#Buat function untuk otomatisasi training & testing\n",
    "RFC_list = ['RandomForest']\n",
    "def modelTrainTestRCF(df_air,testSize,randState):\n",
    "  \n",
    "    X=df_air.iloc[:,:5].values\n",
    "    y=df_air.iloc[:,-1:].values\n",
    "    y = y.reshape(-1)\n",
    "\n",
    "    #Membagi size antara data training dan data test 8:2\n",
    "    X_train, X_test, y_train, y_test = train_test_split(X,y,test_size=testSize,random_state=randState)\n",
    "    \n",
    "    #Training dengan Logistic Regression\n",
    "    rdmFC = RandomForestClassifier()\n",
    "    rdmFC.fit(X_train, y_train)\n",
    "    Y_pred = rdmFC.predict(X_test)\n",
    "    valTrain = rdmFC.score(X_train, y_train)    \n",
    "    valTest = rdmFC.score(X_test, y_test)    \n",
    "\n",
    "    #Evaluation\n",
    "    cm = confusion_matrix(y_test,Y_pred)\n",
    "    accuracy = accuracy_score(y_test,Y_pred)\n",
    "    precision = precision_score(y_test, Y_pred,average='micro')\n",
    "    recall = recall_score(y_test, Y_pred,average='micro')\n",
    "    f1 = f1_score(y_test,Y_pred,average='micro')\n",
    "    \n",
    "    #Cetak Evaluasi   \n",
    "    print('Confusion matrix : \\n',cm)\n",
    "    print('Training         : %.3f' %valTrain)\n",
    "    print('Testing          : %.3f' %valTest)     \n",
    "    print('Accuracy         : %.3f' %accuracy)\n",
    "    print('precision        : %.3f' %precision)\n",
    "    print('Recall           : %.3f' %recall)\n",
    "    print('F1-score         : %.3f' %f1)\n",
    "    \n",
    "    #Save Score\n",
    "    RFC_list.append(valTrain)\n",
    "    RFC_list.append(valTest)    \n",
    "    RFC_list.append(accuracy*100)\n",
    "    RFC_list.append(precision*100)\n",
    "    RFC_list.append(recall*100)\n",
    "    RFC_list.append(f1*100)"
   ]
  },
  {
   "cell_type": "code",
   "execution_count": 64,
   "metadata": {},
   "outputs": [
    {
     "name": "stdout",
     "output_type": "stream",
     "text": [
      "----RobustScaller-----\n",
      "Confusion matrix : \n",
      " [[101   1   0]\n",
      " [  6 351   0]\n",
      " [  0   4  39]]\n",
      "Training         : 1.000\n",
      "Testing          : 0.978\n",
      "Accuracy         : 0.978\n",
      "precision        : 0.978\n",
      "Recall           : 0.978\n",
      "F1-score         : 0.978\n",
      "----MinMaxScaller-----\n",
      "Confusion matrix : \n",
      " [[101   1   0]\n",
      " [  6 351   0]\n",
      " [  0   5  38]]\n",
      "Training         : 1.000\n",
      "Testing          : 0.976\n",
      "Accuracy         : 0.976\n",
      "precision        : 0.976\n",
      "Recall           : 0.976\n",
      "F1-score         : 0.976\n",
      "----StdScaller-----\n",
      "Confusion matrix : \n",
      " [[101   1   0]\n",
      " [  6 351   0]\n",
      " [  0   4  39]]\n",
      "Training         : 1.000\n",
      "Testing          : 0.978\n",
      "Accuracy         : 0.978\n",
      "precision        : 0.978\n",
      "Recall           : 0.978\n",
      "F1-score         : 0.978\n"
     ]
    }
   ],
   "source": [
    "#Proses Training & Eval\n",
    "testSize = 0.3\n",
    "randState = 7\n",
    "print('----RobustScaller-----')\n",
    "modelTrainTestRCF(air_robust,testSize,randState)\n",
    "print('----MinMaxScaller-----')\n",
    "modelTrainTestRCF(air_minmax,testSize,randState)\n",
    "print('----StdScaller-----')\n",
    "modelTrainTestRCF(air_stdsclr,testSize,randState)"
   ]
  },
  {
   "cell_type": "markdown",
   "metadata": {},
   "source": [
    "### KNeighborsClassifier"
   ]
  },
  {
   "cell_type": "code",
   "execution_count": 65,
   "metadata": {},
   "outputs": [],
   "source": [
    "#Buat function untuk otomatisasi training & testing\n",
    "KNC_list = ['KNeighbors']\n",
    "def modelTrainTestKNC(df_air,testSize,randState):\n",
    "  \n",
    "    X=df_air.iloc[:,:5].values\n",
    "    y=df_air.iloc[:,-1:].values\n",
    "    y = y.reshape(-1)\n",
    "\n",
    "    #Membagi size antara data training dan data test 8:2\n",
    "    X_train, X_test, y_train, y_test = train_test_split(X,y,test_size=testSize,random_state=randState)\n",
    "    \n",
    "    #Training dengan Logistic Regression\n",
    "    knnC = KNeighborsClassifier()\n",
    "    knnC.fit(X_train, y_train)\n",
    "    Y_pred = knnC.predict(X_test)\n",
    "    valTrain = knnC.score(X_train, y_train)    \n",
    "    valTest = knnC.score(X_test, y_test)    \n",
    "\n",
    "    #Evaluation\n",
    "    cm = confusion_matrix(y_test,Y_pred)\n",
    "    accuracy = accuracy_score(y_test,Y_pred)\n",
    "    precision = precision_score(y_test, Y_pred,average='micro')\n",
    "    recall = recall_score(y_test, Y_pred,average='micro')\n",
    "    f1 = f1_score(y_test,Y_pred,average='micro')\n",
    "    \n",
    "    #Cetak Evaluasi   \n",
    "    print('Confusion matrix : \\n',cm)\n",
    "    print('Training         : %.3f' %valTrain)\n",
    "    print('Testing          : %.3f' %valTest)     \n",
    "    print('Accuracy         : %.3f' %accuracy)\n",
    "    print('precision        : %.3f' %precision)\n",
    "    print('Recall           : %.3f' %recall)\n",
    "    print('F1-score         : %.3f' %f1)\n",
    "    \n",
    "    #Save Score\n",
    "    KNC_list.append(valTrain)\n",
    "    KNC_list.append(valTest)    \n",
    "    KNC_list.append(accuracy*100)\n",
    "    KNC_list.append(precision*100)\n",
    "    KNC_list.append(recall*100)\n",
    "    KNC_list.append(f1*100)"
   ]
  },
  {
   "cell_type": "code",
   "execution_count": 66,
   "metadata": {},
   "outputs": [
    {
     "name": "stdout",
     "output_type": "stream",
     "text": [
      "----RobustScaller-----\n",
      "Confusion matrix : \n",
      " [[ 86  16   0]\n",
      " [  9 344   4]\n",
      " [  0  15  28]]\n",
      "Training         : 0.937\n",
      "Testing          : 0.912\n",
      "Accuracy         : 0.912\n",
      "precision        : 0.912\n",
      "Recall           : 0.912\n",
      "F1-score         : 0.912\n",
      "----MinMaxScaller-----\n",
      "Confusion matrix : \n",
      " [[ 90  12   0]\n",
      " [ 11 342   4]\n",
      " [  0  12  31]]\n",
      "Training         : 0.943\n",
      "Testing          : 0.922\n",
      "Accuracy         : 0.922\n",
      "precision        : 0.922\n",
      "Recall           : 0.922\n",
      "F1-score         : 0.922\n",
      "----StdScaller-----\n",
      "Confusion matrix : \n",
      " [[ 89  13   0]\n",
      " [  9 343   5]\n",
      " [  0  11  32]]\n",
      "Training         : 0.952\n",
      "Testing          : 0.924\n",
      "Accuracy         : 0.924\n",
      "precision        : 0.924\n",
      "Recall           : 0.924\n",
      "F1-score         : 0.924\n"
     ]
    }
   ],
   "source": [
    "#Proses Training & Eval\n",
    "testSize = 0.3\n",
    "randState = 7\n",
    "print('----RobustScaller-----')\n",
    "modelTrainTestKNC(air_robust,testSize,randState)\n",
    "print('----MinMaxScaller-----')\n",
    "modelTrainTestKNC(air_minmax,testSize,randState)\n",
    "print('----StdScaller-----')\n",
    "modelTrainTestKNC(air_stdsclr,testSize,randState)"
   ]
  },
  {
   "cell_type": "markdown",
   "metadata": {},
   "source": [
    "### Naive Bayes"
   ]
  },
  {
   "cell_type": "code",
   "execution_count": 67,
   "metadata": {},
   "outputs": [],
   "source": [
    "#Buat function untuk otomatisasi training & testing\n",
    "NBC_list = ['NaiveBayes']\n",
    "def modelTrainTestNBC(df_air,testSize,randState):\n",
    "  \n",
    "    X=df_air.iloc[:,:5].values\n",
    "    y=df_air.iloc[:,-1:].values\n",
    "    y = y.reshape(-1)\n",
    "\n",
    "    #Membagi size antara data training dan data test 8:2\n",
    "    X_train, X_test, y_train, y_test = train_test_split(X,y,test_size=testSize,random_state=randState)\n",
    "    \n",
    "    #Training dengan Logistic Regression\n",
    "    nbyc = GaussianNB()\n",
    "    nbyc.fit(X_train, y_train)\n",
    "    Y_pred = nbyc.predict(X_test)\n",
    "    valTrain = nbyc.score(X_train, y_train)    \n",
    "    valTest = nbyc.score(X_test, y_test)    \n",
    "\n",
    "    #Evaluation\n",
    "    cm = confusion_matrix(y_test,Y_pred)\n",
    "    accuracy = accuracy_score(y_test,Y_pred)\n",
    "    precision = precision_score(y_test, Y_pred,average='micro')\n",
    "    recall = recall_score(y_test, Y_pred,average='micro')\n",
    "    f1 = f1_score(y_test,Y_pred,average='micro')\n",
    "    \n",
    "    #Cetak Evaluasi   \n",
    "    print('Confusion matrix : \\n',cm)\n",
    "    print('Training         : %.3f' %valTrain)\n",
    "    print('Testing          : %.3f' %valTest)     \n",
    "    print('Accuracy         : %.3f' %accuracy)\n",
    "    print('precision        : %.3f' %precision)\n",
    "    print('Recall           : %.3f' %recall)\n",
    "    print('F1-score         : %.3f' %f1)\n",
    "    \n",
    "    #Save Score\n",
    "    NBC_list.append(valTrain)\n",
    "    NBC_list.append(valTest)    \n",
    "    NBC_list.append(accuracy*100)\n",
    "    NBC_list.append(precision*100)\n",
    "    NBC_list.append(recall*100)\n",
    "    NBC_list.append(f1*100)"
   ]
  },
  {
   "cell_type": "code",
   "execution_count": 68,
   "metadata": {},
   "outputs": [
    {
     "name": "stdout",
     "output_type": "stream",
     "text": [
      "----RobustScaller-----\n",
      "Confusion matrix : \n",
      " [[ 80  20   2]\n",
      " [  8 310  39]\n",
      " [  0  22  21]]\n",
      "Training         : 0.815\n",
      "Testing          : 0.819\n",
      "Accuracy         : 0.819\n",
      "precision        : 0.819\n",
      "Recall           : 0.819\n",
      "F1-score         : 0.819\n",
      "----MinMaxScaller-----\n",
      "Confusion matrix : \n",
      " [[ 80  20   2]\n",
      " [  8 310  39]\n",
      " [  0  22  21]]\n",
      "Training         : 0.815\n",
      "Testing          : 0.819\n",
      "Accuracy         : 0.819\n",
      "precision        : 0.819\n",
      "Recall           : 0.819\n",
      "F1-score         : 0.819\n",
      "----StdScaller-----\n",
      "Confusion matrix : \n",
      " [[ 80  20   2]\n",
      " [  8 310  39]\n",
      " [  0  22  21]]\n",
      "Training         : 0.815\n",
      "Testing          : 0.819\n",
      "Accuracy         : 0.819\n",
      "precision        : 0.819\n",
      "Recall           : 0.819\n",
      "F1-score         : 0.819\n"
     ]
    }
   ],
   "source": [
    "#Proses Training & Eval\n",
    "testSize = 0.3\n",
    "randState = 7\n",
    "print('----RobustScaller-----')\n",
    "modelTrainTestNBC(air_robust,testSize,randState)\n",
    "print('----MinMaxScaller-----')\n",
    "modelTrainTestNBC(air_minmax,testSize,randState)\n",
    "print('----StdScaller-----')\n",
    "modelTrainTestNBC(air_stdsclr,testSize,randState)"
   ]
  },
  {
   "cell_type": "markdown",
   "metadata": {},
   "source": [
    "### Visualisasi Performa Masing Masing Model"
   ]
  },
  {
   "cell_type": "code",
   "execution_count": 69,
   "metadata": {},
   "outputs": [],
   "source": [
    "list_model = [LRG_list, SVC_list, RFC_list, KNC_list, NBC_list]"
   ]
  },
  {
   "cell_type": "code",
   "execution_count": 70,
   "metadata": {},
   "outputs": [],
   "source": [
    "model_tabel = pd.DataFrame(columns = ['Algorithm', 'Robust> Train', 'Test', 'Acc1', 'Prec', 'Recall', 'F1-score',\n",
    "                                     'MinMax> Train', 'Test', 'Acc2', 'Prec', 'Recall', 'F1-score',\n",
    "                                     'StdScaller> Train', 'Test', 'Acc3', 'Prec', 'Recall', 'F1-score',]) "
   ]
  },
  {
   "cell_type": "code",
   "execution_count": 71,
   "metadata": {},
   "outputs": [],
   "source": [
    "#Append all list to dataframe\n",
    "for model_apnd in list_model :\n",
    "    model_tabel.loc[len(model_tabel)] = model_apnd"
   ]
  },
  {
   "cell_type": "code",
   "execution_count": 72,
   "metadata": {},
   "outputs": [
    {
     "data": {
      "text/html": [
       "<div>\n",
       "<style scoped>\n",
       "    .dataframe tbody tr th:only-of-type {\n",
       "        vertical-align: middle;\n",
       "    }\n",
       "\n",
       "    .dataframe tbody tr th {\n",
       "        vertical-align: top;\n",
       "    }\n",
       "\n",
       "    .dataframe thead th {\n",
       "        text-align: right;\n",
       "    }\n",
       "</style>\n",
       "<table border=\"1\" class=\"dataframe\">\n",
       "  <thead>\n",
       "    <tr style=\"text-align: right;\">\n",
       "      <th></th>\n",
       "      <th>Algorithm</th>\n",
       "      <th>Robust&gt; Train</th>\n",
       "      <th>Test</th>\n",
       "      <th>Acc1</th>\n",
       "      <th>Prec</th>\n",
       "      <th>Recall</th>\n",
       "      <th>F1-score</th>\n",
       "      <th>MinMax&gt; Train</th>\n",
       "      <th>Test</th>\n",
       "      <th>Acc2</th>\n",
       "      <th>Prec</th>\n",
       "      <th>Recall</th>\n",
       "      <th>F1-score</th>\n",
       "      <th>StdScaller&gt; Train</th>\n",
       "      <th>Test</th>\n",
       "      <th>Acc3</th>\n",
       "      <th>Prec</th>\n",
       "      <th>Recall</th>\n",
       "      <th>F1-score</th>\n",
       "    </tr>\n",
       "  </thead>\n",
       "  <tbody>\n",
       "    <tr>\n",
       "      <th>0</th>\n",
       "      <td>RandomForest</td>\n",
       "      <td>1.000000</td>\n",
       "      <td>0.978088</td>\n",
       "      <td>97.808765</td>\n",
       "      <td>97.808765</td>\n",
       "      <td>97.808765</td>\n",
       "      <td>97.808765</td>\n",
       "      <td>1.000000</td>\n",
       "      <td>0.976096</td>\n",
       "      <td>97.609562</td>\n",
       "      <td>97.609562</td>\n",
       "      <td>97.609562</td>\n",
       "      <td>97.609562</td>\n",
       "      <td>1.000000</td>\n",
       "      <td>0.978088</td>\n",
       "      <td>97.808765</td>\n",
       "      <td>97.808765</td>\n",
       "      <td>97.808765</td>\n",
       "      <td>97.808765</td>\n",
       "    </tr>\n",
       "    <tr>\n",
       "      <th>1</th>\n",
       "      <td>SVC</td>\n",
       "      <td>0.939368</td>\n",
       "      <td>0.922311</td>\n",
       "      <td>92.231076</td>\n",
       "      <td>92.231076</td>\n",
       "      <td>92.231076</td>\n",
       "      <td>92.231076</td>\n",
       "      <td>0.934244</td>\n",
       "      <td>0.932271</td>\n",
       "      <td>93.227092</td>\n",
       "      <td>93.227092</td>\n",
       "      <td>93.227092</td>\n",
       "      <td>93.227092</td>\n",
       "      <td>0.941930</td>\n",
       "      <td>0.930279</td>\n",
       "      <td>93.027888</td>\n",
       "      <td>93.027888</td>\n",
       "      <td>93.027888</td>\n",
       "      <td>93.027888</td>\n",
       "    </tr>\n",
       "    <tr>\n",
       "      <th>2</th>\n",
       "      <td>KNeighbors</td>\n",
       "      <td>0.936806</td>\n",
       "      <td>0.912351</td>\n",
       "      <td>91.235060</td>\n",
       "      <td>91.235060</td>\n",
       "      <td>91.235060</td>\n",
       "      <td>91.235060</td>\n",
       "      <td>0.942784</td>\n",
       "      <td>0.922311</td>\n",
       "      <td>92.231076</td>\n",
       "      <td>92.231076</td>\n",
       "      <td>92.231076</td>\n",
       "      <td>92.231076</td>\n",
       "      <td>0.952178</td>\n",
       "      <td>0.924303</td>\n",
       "      <td>92.430279</td>\n",
       "      <td>92.430279</td>\n",
       "      <td>92.430279</td>\n",
       "      <td>92.430279</td>\n",
       "    </tr>\n",
       "    <tr>\n",
       "      <th>3</th>\n",
       "      <td>LogisticRegression</td>\n",
       "      <td>0.859095</td>\n",
       "      <td>0.874502</td>\n",
       "      <td>87.450199</td>\n",
       "      <td>87.450199</td>\n",
       "      <td>87.450199</td>\n",
       "      <td>87.450199</td>\n",
       "      <td>0.820666</td>\n",
       "      <td>0.822709</td>\n",
       "      <td>82.270916</td>\n",
       "      <td>82.270916</td>\n",
       "      <td>82.270916</td>\n",
       "      <td>82.270916</td>\n",
       "      <td>0.859949</td>\n",
       "      <td>0.878486</td>\n",
       "      <td>87.848606</td>\n",
       "      <td>87.848606</td>\n",
       "      <td>87.848606</td>\n",
       "      <td>87.848606</td>\n",
       "    </tr>\n",
       "    <tr>\n",
       "      <th>4</th>\n",
       "      <td>NaiveBayes</td>\n",
       "      <td>0.814688</td>\n",
       "      <td>0.818725</td>\n",
       "      <td>81.872510</td>\n",
       "      <td>81.872510</td>\n",
       "      <td>81.872510</td>\n",
       "      <td>81.872510</td>\n",
       "      <td>0.814688</td>\n",
       "      <td>0.818725</td>\n",
       "      <td>81.872510</td>\n",
       "      <td>81.872510</td>\n",
       "      <td>81.872510</td>\n",
       "      <td>81.872510</td>\n",
       "      <td>0.814688</td>\n",
       "      <td>0.818725</td>\n",
       "      <td>81.872510</td>\n",
       "      <td>81.872510</td>\n",
       "      <td>81.872510</td>\n",
       "      <td>81.872510</td>\n",
       "    </tr>\n",
       "  </tbody>\n",
       "</table>\n",
       "</div>"
      ],
      "text/plain": [
       "            Algorithm  Robust> Train      Test       Acc1       Prec  \\\n",
       "0        RandomForest       1.000000  0.978088  97.808765  97.808765   \n",
       "1                 SVC       0.939368  0.922311  92.231076  92.231076   \n",
       "2          KNeighbors       0.936806  0.912351  91.235060  91.235060   \n",
       "3  LogisticRegression       0.859095  0.874502  87.450199  87.450199   \n",
       "4          NaiveBayes       0.814688  0.818725  81.872510  81.872510   \n",
       "\n",
       "      Recall   F1-score  MinMax> Train      Test       Acc2       Prec  \\\n",
       "0  97.808765  97.808765       1.000000  0.976096  97.609562  97.609562   \n",
       "1  92.231076  92.231076       0.934244  0.932271  93.227092  93.227092   \n",
       "2  91.235060  91.235060       0.942784  0.922311  92.231076  92.231076   \n",
       "3  87.450199  87.450199       0.820666  0.822709  82.270916  82.270916   \n",
       "4  81.872510  81.872510       0.814688  0.818725  81.872510  81.872510   \n",
       "\n",
       "      Recall   F1-score  StdScaller> Train      Test       Acc3       Prec  \\\n",
       "0  97.609562  97.609562           1.000000  0.978088  97.808765  97.808765   \n",
       "1  93.227092  93.227092           0.941930  0.930279  93.027888  93.027888   \n",
       "2  92.231076  92.231076           0.952178  0.924303  92.430279  92.430279   \n",
       "3  82.270916  82.270916           0.859949  0.878486  87.848606  87.848606   \n",
       "4  81.872510  81.872510           0.814688  0.818725  81.872510  81.872510   \n",
       "\n",
       "      Recall   F1-score  \n",
       "0  97.808765  97.808765  \n",
       "1  93.027888  93.027888  \n",
       "2  92.430279  92.430279  \n",
       "3  87.848606  87.848606  \n",
       "4  81.872510  81.872510  "
      ]
     },
     "execution_count": 72,
     "metadata": {},
     "output_type": "execute_result"
    }
   ],
   "source": [
    "model_tabel = model_tabel.sort_values(by='Acc1', ascending=False)\n",
    "model_tabel = model_tabel.reset_index(drop=True)\n",
    "model_tabel"
   ]
  },
  {
   "cell_type": "raw",
   "metadata": {},
   "source": [
    "Untuk Model terbaik adalah RandomForest dengan penggunaan normalisasi RobustScaller atau StdScaller"
   ]
  }
 ],
 "metadata": {
  "kernelspec": {
   "display_name": "Python 3 (ipykernel)",
   "language": "python",
   "name": "python3"
  },
  "language_info": {
   "codemirror_mode": {
    "name": "ipython",
    "version": 3
   },
   "file_extension": ".py",
   "mimetype": "text/x-python",
   "name": "python",
   "nbconvert_exporter": "python",
   "pygments_lexer": "ipython3",
   "version": "3.9.9"
  },
  "latex_envs": {
   "LaTeX_envs_menu_present": true,
   "autoclose": false,
   "autocomplete": true,
   "bibliofile": "biblio.bib",
   "cite_by": "apalike",
   "current_citInitial": 1,
   "eqLabelWithNumbers": true,
   "eqNumInitial": 1,
   "hotkeys": {
    "equation": "Ctrl-E",
    "itemize": "Ctrl-I"
   },
   "labels_anchors": false,
   "latex_user_defs": false,
   "report_style_numbering": false,
   "user_envs_cfg": false
  },
  "toc": {
   "base_numbering": 1,
   "nav_menu": {},
   "number_sections": true,
   "sideBar": true,
   "skip_h1_title": false,
   "title_cell": "Table of Contents",
   "title_sidebar": "Contents",
   "toc_cell": false,
   "toc_position": {},
   "toc_section_display": true,
   "toc_window_display": false
  }
 },
 "nbformat": 4,
 "nbformat_minor": 4
}
